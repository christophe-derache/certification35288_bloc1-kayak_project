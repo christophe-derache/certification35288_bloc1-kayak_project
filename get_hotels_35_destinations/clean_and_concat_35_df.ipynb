{
 "cells": [
  {
   "cell_type": "code",
   "execution_count": 1,
   "metadata": {},
   "outputs": [],
   "source": [
    "import pandas as pd\n",
    "pd.set_option('display.max_rows', None)\n",
    "pd.set_option('display.max_columns', None)\n",
    "#pd.set_option('display.width', None)\n",
    "#pd.set_option('display.max_colwidth', None)\n",
    "import glob, os"
   ]
  },
  {
   "cell_type": "code",
   "execution_count": 8,
   "metadata": {},
   "outputs": [],
   "source": [
    "files = glob.glob('save_output/*.csv')"
   ]
  },
  {
   "cell_type": "code",
   "execution_count": 9,
   "metadata": {},
   "outputs": [],
   "source": [
    "df_concat = pd.concat([pd.read_csv(fp).assign(namecity=os.path.basename(fp).split('-')[-1].split('.')[0]) for fp in files])"
   ]
  },
  {
   "cell_type": "code",
   "execution_count": 10,
   "metadata": {},
   "outputs": [],
   "source": [
    "list_columns = df_concat.columns.tolist()"
   ]
  },
  {
   "cell_type": "code",
   "execution_count": 11,
   "metadata": {},
   "outputs": [],
   "source": [
    "list_columns = list_columns[-1:] + list_columns[:-1]"
   ]
  },
  {
   "cell_type": "code",
   "execution_count": 12,
   "metadata": {},
   "outputs": [],
   "source": [
    "df_final = df_concat[list_columns]"
   ]
  },
  {
   "cell_type": "code",
   "execution_count": 13,
   "metadata": {},
   "outputs": [],
   "source": [
    "df_final.reset_index(drop=True, inplace=True)"
   ]
  },
  {
   "cell_type": "code",
   "execution_count": 15,
   "metadata": {},
   "outputs": [
    {
     "data": {
      "text/plain": [
       "RangeIndex(start=0, stop=875, step=1)"
      ]
     },
     "execution_count": 15,
     "metadata": {},
     "output_type": "execute_result"
    }
   ],
   "source": [
    "df_final.index"
   ]
  },
  {
   "cell_type": "code",
   "execution_count": 24,
   "metadata": {},
   "outputs": [
    {
     "data": {
      "text/plain": [
       "(875, 9)"
      ]
     },
     "execution_count": 24,
     "metadata": {},
     "output_type": "execute_result"
    }
   ],
   "source": [
    "df_final.shape"
   ]
  },
  {
   "cell_type": "code",
   "execution_count": 23,
   "metadata": {},
   "outputs": [
    {
     "data": {
      "text/html": [
       "<div>\n",
       "<style scoped>\n",
       "    .dataframe tbody tr th:only-of-type {\n",
       "        vertical-align: middle;\n",
       "    }\n",
       "\n",
       "    .dataframe tbody tr th {\n",
       "        vertical-align: top;\n",
       "    }\n",
       "\n",
       "    .dataframe thead th {\n",
       "        text-align: right;\n",
       "    }\n",
       "</style>\n",
       "<table border=\"1\" class=\"dataframe\">\n",
       "  <thead>\n",
       "    <tr style=\"text-align: right;\">\n",
       "      <th></th>\n",
       "      <th>namecity</th>\n",
       "      <th>name</th>\n",
       "      <th>link</th>\n",
       "      <th>review_score</th>\n",
       "      <th>review_count</th>\n",
       "      <th>area</th>\n",
       "      <th>address</th>\n",
       "      <th>coordinates_gps</th>\n",
       "      <th>description</th>\n",
       "    </tr>\n",
       "  </thead>\n",
       "  <tbody>\n",
       "    <tr>\n",
       "      <th>0</th>\n",
       "      <td>Mont Saint Michel</td>\n",
       "      <td>Mercure Mont Saint Michel</td>\n",
       "      <td>https://www.booking.com/hotel/fr/mont-saint-mi...</td>\n",
       "      <td>8,2</td>\n",
       "      <td>3 565 expériences vécues</td>\n",
       "      <td>Le Mont-Saint-Michel</td>\n",
       "      <td>La Caserne, 50170 Le Mont-Saint-Michel, France</td>\n",
       "      <td>-1.53776914256384,48.5962811130198,-1.48332088...</td>\n",
       "      <td>Installé dans des espaces verts à seulement 2 ...</td>\n",
       "    </tr>\n",
       "    <tr>\n",
       "      <th>1</th>\n",
       "      <td>Mont Saint Michel</td>\n",
       "      <td>Le Relais Saint Michel</td>\n",
       "      <td>https://www.booking.com/hotel/fr/le-relais-sai...</td>\n",
       "      <td>7,8</td>\n",
       "      <td>3 097 expériences vécues</td>\n",
       "      <td>Le Mont-Saint-Michel</td>\n",
       "      <td>La Caserne, 50170 Le Mont-Saint-Michel, France</td>\n",
       "      <td>-1.53762208153347,48.5996218550758,-1.48317022...</td>\n",
       "      <td>Vous pouvez bénéficier d'une réduction Genius ...</td>\n",
       "    </tr>\n",
       "    <tr>\n",
       "      <th>2</th>\n",
       "      <td>Mont Saint Michel</td>\n",
       "      <td>La Mère Poulard</td>\n",
       "      <td>https://www.booking.com/hotel/fr/la-mere-poula...</td>\n",
       "      <td>7,0</td>\n",
       "      <td>2 039 expériences vécues</td>\n",
       "      <td>Le Mont-Saint-Michel</td>\n",
       "      <td>Grande Rue, 50170 Le Mont-Saint-Michel, France</td>\n",
       "      <td>-1.53777502133808,48.6171199006609,-1.48330428...</td>\n",
       "      <td>Vous pouvez bénéficier d'une réduction Genius ...</td>\n",
       "    </tr>\n",
       "    <tr>\n",
       "      <th>3</th>\n",
       "      <td>Mont Saint Michel</td>\n",
       "      <td>Hotel De La Digue</td>\n",
       "      <td>https://www.booking.com/hotel/fr/de-la-digue.f...</td>\n",
       "      <td>7,1</td>\n",
       "      <td>2 933 expériences vécues</td>\n",
       "      <td>Le Mont-Saint-Michel</td>\n",
       "      <td>La Caserne, 50170 Le Mont-Saint-Michel, France</td>\n",
       "      <td>-1.53814339058278,48.5989161328681,-1.48369229...</td>\n",
       "      <td>L'hôtel De La Digue est un établissement tradi...</td>\n",
       "    </tr>\n",
       "    <tr>\n",
       "      <th>4</th>\n",
       "      <td>Mont Saint Michel</td>\n",
       "      <td>Les Terrasses Poulard</td>\n",
       "      <td>https://www.booking.com/hotel/fr/les-terrasses...</td>\n",
       "      <td>7,3</td>\n",
       "      <td>2 490 expériences vécues</td>\n",
       "      <td>Le Mont-Saint-Michel</td>\n",
       "      <td>Grande Rue, 50170 Le Mont-Saint-Michel, France</td>\n",
       "      <td>-1.53761423137484,48.6173840090681,-1.48314320...</td>\n",
       "      <td>Vous pouvez bénéficier d'une réduction Genius ...</td>\n",
       "    </tr>\n",
       "    <tr>\n",
       "      <th>5</th>\n",
       "      <td>Mont Saint Michel</td>\n",
       "      <td>Le Mouton Blanc</td>\n",
       "      <td>https://www.booking.com/hotel/fr/le-mouton-bla...</td>\n",
       "      <td>7,0</td>\n",
       "      <td>1 581 expériences vécues</td>\n",
       "      <td>Le Mont-Saint-Michel</td>\n",
       "      <td>Grande Rue , 50170 Le Mont-Saint-Michel, France</td>\n",
       "      <td>-1.537131797379,48.618057567874,-1.48266004412...</td>\n",
       "      <td>Vous pouvez bénéficier d'une réduction Genius ...</td>\n",
       "    </tr>\n",
       "    <tr>\n",
       "      <th>6</th>\n",
       "      <td>Mont Saint Michel</td>\n",
       "      <td>Hotel Gabriel</td>\n",
       "      <td>https://www.booking.com/hotel/fr/hotel-gabriel...</td>\n",
       "      <td>7,9</td>\n",
       "      <td>2 432 expériences vécues</td>\n",
       "      <td>Le Mont-Saint-Michel</td>\n",
       "      <td>Route du Mont Saint Michel, 50170 Le Mont-Sain...</td>\n",
       "      <td>-1.53793471039279,48.5974159971103,-1.48348523...</td>\n",
       "      <td>Vous pouvez bénéficier d'une réduction Genius ...</td>\n",
       "    </tr>\n",
       "    <tr>\n",
       "      <th>7</th>\n",
       "      <td>Mont Saint Michel</td>\n",
       "      <td>Auberge Saint Pierre</td>\n",
       "      <td>https://www.booking.com/hotel/fr/auberge-saint...</td>\n",
       "      <td>7,9</td>\n",
       "      <td>814 expériences vécues</td>\n",
       "      <td>Le Mont-Saint-Michel</td>\n",
       "      <td>Grande Rue, 50170 Le Mont-Saint-Michel, France</td>\n",
       "      <td>-1.53711820547634,48.6177225621183,-1.48264681...</td>\n",
       "      <td>L'Auberge Saint-Pierre occupe une maison à col...</td>\n",
       "    </tr>\n",
       "    <tr>\n",
       "      <th>8</th>\n",
       "      <td>Mont Saint Michel</td>\n",
       "      <td>Le Saint Aubert</td>\n",
       "      <td>https://www.booking.com/hotel/fr/hotel-saint-a...</td>\n",
       "      <td>7,0</td>\n",
       "      <td>1 293 expériences vécues</td>\n",
       "      <td>Le Mont-Saint-Michel</td>\n",
       "      <td>La Caserne, 50170 Le Mont-Saint-Michel, France</td>\n",
       "      <td>-1.5373285546326,48.5949724181334,-1.482881711...</td>\n",
       "      <td>Niché dans un écrin de verdure, à seulement 2 ...</td>\n",
       "    </tr>\n",
       "    <tr>\n",
       "      <th>9</th>\n",
       "      <td>Mont Saint Michel</td>\n",
       "      <td>Le Relais Du Roy</td>\n",
       "      <td>https://www.booking.com/hotel/fr/le-relais-du-...</td>\n",
       "      <td>7,9</td>\n",
       "      <td>959 expériences vécues</td>\n",
       "      <td>Le Mont-Saint-Michel</td>\n",
       "      <td>La Caserne, 50170 Le Mont-Saint-Michel, France</td>\n",
       "      <td>-1.53813098690421,48.5982972879393,-1.48368055...</td>\n",
       "      <td>Vous pouvez bénéficier d'une réduction Genius ...</td>\n",
       "    </tr>\n",
       "  </tbody>\n",
       "</table>\n",
       "</div>"
      ],
      "text/plain": [
       "            namecity                       name  \\\n",
       "0  Mont Saint Michel  Mercure Mont Saint Michel   \n",
       "1  Mont Saint Michel     Le Relais Saint Michel   \n",
       "2  Mont Saint Michel            La Mère Poulard   \n",
       "3  Mont Saint Michel          Hotel De La Digue   \n",
       "4  Mont Saint Michel      Les Terrasses Poulard   \n",
       "5  Mont Saint Michel            Le Mouton Blanc   \n",
       "6  Mont Saint Michel              Hotel Gabriel   \n",
       "7  Mont Saint Michel       Auberge Saint Pierre   \n",
       "8  Mont Saint Michel            Le Saint Aubert   \n",
       "9  Mont Saint Michel           Le Relais Du Roy   \n",
       "\n",
       "                                                link review_score  \\\n",
       "0  https://www.booking.com/hotel/fr/mont-saint-mi...          8,2   \n",
       "1  https://www.booking.com/hotel/fr/le-relais-sai...          7,8   \n",
       "2  https://www.booking.com/hotel/fr/la-mere-poula...          7,0   \n",
       "3  https://www.booking.com/hotel/fr/de-la-digue.f...          7,1   \n",
       "4  https://www.booking.com/hotel/fr/les-terrasses...          7,3   \n",
       "5  https://www.booking.com/hotel/fr/le-mouton-bla...          7,0   \n",
       "6  https://www.booking.com/hotel/fr/hotel-gabriel...          7,9   \n",
       "7  https://www.booking.com/hotel/fr/auberge-saint...          7,9   \n",
       "8  https://www.booking.com/hotel/fr/hotel-saint-a...          7,0   \n",
       "9  https://www.booking.com/hotel/fr/le-relais-du-...          7,9   \n",
       "\n",
       "               review_count                  area  \\\n",
       "0  3 565 expériences vécues  Le Mont-Saint-Michel   \n",
       "1  3 097 expériences vécues  Le Mont-Saint-Michel   \n",
       "2  2 039 expériences vécues  Le Mont-Saint-Michel   \n",
       "3  2 933 expériences vécues  Le Mont-Saint-Michel   \n",
       "4  2 490 expériences vécues  Le Mont-Saint-Michel   \n",
       "5  1 581 expériences vécues  Le Mont-Saint-Michel   \n",
       "6  2 432 expériences vécues  Le Mont-Saint-Michel   \n",
       "7    814 expériences vécues  Le Mont-Saint-Michel   \n",
       "8  1 293 expériences vécues  Le Mont-Saint-Michel   \n",
       "9    959 expériences vécues  Le Mont-Saint-Michel   \n",
       "\n",
       "                                             address  \\\n",
       "0     La Caserne, 50170 Le Mont-Saint-Michel, France   \n",
       "1     La Caserne, 50170 Le Mont-Saint-Michel, France   \n",
       "2     Grande Rue, 50170 Le Mont-Saint-Michel, France   \n",
       "3     La Caserne, 50170 Le Mont-Saint-Michel, France   \n",
       "4     Grande Rue, 50170 Le Mont-Saint-Michel, France   \n",
       "5    Grande Rue , 50170 Le Mont-Saint-Michel, France   \n",
       "6  Route du Mont Saint Michel, 50170 Le Mont-Sain...   \n",
       "7     Grande Rue, 50170 Le Mont-Saint-Michel, France   \n",
       "8     La Caserne, 50170 Le Mont-Saint-Michel, France   \n",
       "9     La Caserne, 50170 Le Mont-Saint-Michel, France   \n",
       "\n",
       "                                     coordinates_gps  \\\n",
       "0  -1.53776914256384,48.5962811130198,-1.48332088...   \n",
       "1  -1.53762208153347,48.5996218550758,-1.48317022...   \n",
       "2  -1.53777502133808,48.6171199006609,-1.48330428...   \n",
       "3  -1.53814339058278,48.5989161328681,-1.48369229...   \n",
       "4  -1.53761423137484,48.6173840090681,-1.48314320...   \n",
       "5  -1.537131797379,48.618057567874,-1.48266004412...   \n",
       "6  -1.53793471039279,48.5974159971103,-1.48348523...   \n",
       "7  -1.53711820547634,48.6177225621183,-1.48264681...   \n",
       "8  -1.5373285546326,48.5949724181334,-1.482881711...   \n",
       "9  -1.53813098690421,48.5982972879393,-1.48368055...   \n",
       "\n",
       "                                         description  \n",
       "0  Installé dans des espaces verts à seulement 2 ...  \n",
       "1  Vous pouvez bénéficier d'une réduction Genius ...  \n",
       "2  Vous pouvez bénéficier d'une réduction Genius ...  \n",
       "3  L'hôtel De La Digue est un établissement tradi...  \n",
       "4  Vous pouvez bénéficier d'une réduction Genius ...  \n",
       "5  Vous pouvez bénéficier d'une réduction Genius ...  \n",
       "6  Vous pouvez bénéficier d'une réduction Genius ...  \n",
       "7  L'Auberge Saint-Pierre occupe une maison à col...  \n",
       "8  Niché dans un écrin de verdure, à seulement 2 ...  \n",
       "9  Vous pouvez bénéficier d'une réduction Genius ...  "
      ]
     },
     "execution_count": 23,
     "metadata": {},
     "output_type": "execute_result"
    }
   ],
   "source": [
    "df_final.head(10)"
   ]
  },
  {
   "cell_type": "code",
   "execution_count": 25,
   "metadata": {},
   "outputs": [],
   "source": [
    "#df_final.to_csv('cleaned_and_concat_hotels/df_hotels.csv', index=False)"
   ]
  },
  {
   "cell_type": "code",
   "execution_count": null,
   "metadata": {},
   "outputs": [],
   "source": []
  }
 ],
 "metadata": {
  "kernelspec": {
   "display_name": "Python 3",
   "language": "python",
   "name": "python3"
  },
  "language_info": {
   "codemirror_mode": {
    "name": "ipython",
    "version": 3
   },
   "file_extension": ".py",
   "mimetype": "text/x-python",
   "name": "python",
   "nbconvert_exporter": "python",
   "pygments_lexer": "ipython3",
   "version": "3.9.3"
  },
  "orig_nbformat": 4,
  "vscode": {
   "interpreter": {
    "hash": "5a1ee337b682cd95343797d80150fd2bd6ab72b1f35807bec9bb1f0b7fb0c443"
   }
  }
 },
 "nbformat": 4,
 "nbformat_minor": 2
}
