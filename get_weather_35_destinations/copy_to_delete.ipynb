{
 "cells": [
  {
   "cell_type": "code",
   "execution_count": 1,
   "metadata": {},
   "outputs": [],
   "source": [
    "import pandas as pd\n",
    "import requests\n",
    "import time\n",
    "import json\n",
    "import os\n",
    "\n",
    "\n",
    "    "
   ]
  },
  {
   "cell_type": "code",
   "execution_count": 2,
   "metadata": {},
   "outputs": [],
   "source": [
    "list_columns = ['cityname', 'temperature_j1', 'precipitation_j1', 'weathercode_j1',\n",
    "       'temperature_j2', 'precipitation_j2', 'weathercode_j2',\n",
    "       'temperature_j3', 'precipitation_j3', 'weathercode_j3',\n",
    "       'temperature_j4', 'precipitation_j4', 'weathercode_j4',\n",
    "       'temperature_j5', 'precipitation_j5', 'weathercode_j5',\n",
    "       'temperature_j6', 'precipitation_j6', 'weathercode_j6',\n",
    "       'temperature_j7', 'precipitation_j7', 'weathercode_j7']\n",
    "\n"
   ]
  },
  {
   "cell_type": "code",
   "execution_count": 3,
   "metadata": {},
   "outputs": [],
   "source": [
    "def get_weather_from_coordinates(lat,lon):\n",
    "    latitude = lat\n",
    "    longitude = lon\n",
    "    url = f\"https://api.open-meteo.com/v1/forecast?latitude={lat}&longitude={lon}&hourly=temperature_2m&hourly=precipitation&hourly=weathercode\"\n",
    "    response_api = requests.get(url)\n",
    "    print(f'{url}')\n",
    "    return response_api"
   ]
  },
  {
   "cell_type": "code",
   "execution_count": 4,
   "metadata": {},
   "outputs": [],
   "source": [
    "def create_mydict(json_returned_by_api, cityname, latitude, longitude, list_cityname, list_coordinates):\n",
    "    list_index = [12,36,60,84,108,132,166]\n",
    "    list_coordinates = list_coordinates\n",
    "    list_coordinates.append((latitude, longitude))\n",
    "    list_cityname = list_cityname\n",
    "    list_cityname.append(cityname)\n",
    "    my_dict = {}\n",
    "    for count, value in enumerate(list_index, start=1):\n",
    "        my_dict[f'temperature_j{count}'] = [result_json.get('hourly').get('temperature_2m')[value]]\n",
    "        my_dict[f'precipitation_j{count}'] = [result_json.get('hourly').get('precipitation')[value]]\n",
    "        my_dict[f'weathercode_j{count}'] = [result_json.get('hourly').get('weathercode')[value]]\n",
    "    return my_dict, list_cityname, list_coordinates\n",
    "\n",
    "\n",
    "\n",
    "\n",
    "\n",
    "count = 1\n",
    "list_cityname = []\n",
    "list_coordinates = []\n",
    "df = pd.DataFrame(columns=list_columns)\n",
    "\n",
    "\n",
    "for value in ['Mont+Saint+Michel', 'St+Malo']:\n",
    "    print(count)\n",
    "    time.sleep(2)\n",
    "    latitude = list_city.get(value).get('latitude')\n",
    "    longitude = list_city.get(value).get('longitude')\n",
    "    result = get_weather_from_coordinates(latitude, longitude)\n",
    "    result_json = result.json()\n",
    "    my_dict, list_cityname, list_coordinates = create_mydict(result_json, value, latitude, longitude, list_cityname, list_coordinates)\n",
    "    df_loop = pd.DataFrame(my_dict)\n",
    "    df_final = pd.concat([df, df_loop])\n",
    "    df = df_final\n",
    "    count +=1\n",
    "\n",
    "df_final['cityname'] = list_cityname\n",
    "df_final['coordinates'] = list_coordinates\n",
    "df_final.reset_index(inplace=True)\n",
    "df_final = df_final.drop(labels='index', axis = 1)"
   ]
  },
  {
   "cell_type": "code",
   "execution_count": 5,
   "metadata": {},
   "outputs": [
    {
     "data": {
      "text/plain": [
       "'c:\\\\Users\\\\Christophe\\\\Desktop\\\\certification35288_bloc1-kayak_project\\\\get_gps_coordinates_35_destinations\\\\dict_gps'"
      ]
     },
     "execution_count": 5,
     "metadata": {},
     "output_type": "execute_result"
    }
   ],
   "source": [
    "path = os.getcwd()\n",
    "path = str(os.path.abspath(os.path.join(path, os.pardir))) \n",
    "path = path + r'\\get_gps_coordinates_35_destinations\\dict_gps'\n",
    "path"
   ]
  },
  {
   "cell_type": "code",
   "execution_count": 6,
   "metadata": {},
   "outputs": [],
   "source": [
    "with open(path,'r') as f:\n",
    "    data = json.load(f)\n"
   ]
  },
  {
   "cell_type": "code",
   "execution_count": 7,
   "metadata": {},
   "outputs": [],
   "source": [
    "list_city = data"
   ]
  },
  {
   "cell_type": "code",
   "execution_count": 8,
   "metadata": {},
   "outputs": [],
   "source": [
    "list_keys = list_city.keys()\n"
   ]
  },
  {
   "cell_type": "code",
   "execution_count": 12,
   "metadata": {},
   "outputs": [],
   "source": [
    "\n"
   ]
  },
  {
   "cell_type": "code",
   "execution_count": 14,
   "metadata": {},
   "outputs": [],
   "source": []
  },
  {
   "cell_type": "code",
   "execution_count": 16,
   "metadata": {},
   "outputs": [],
   "source": [
    "# df_final.to_csv('weather_to_sort.csv')"
   ]
  },
  {
   "cell_type": "code",
   "execution_count": null,
   "metadata": {},
   "outputs": [],
   "source": []
  },
  {
   "cell_type": "code",
   "execution_count": null,
   "metadata": {},
   "outputs": [],
   "source": []
  },
  {
   "cell_type": "code",
   "execution_count": null,
   "metadata": {},
   "outputs": [],
   "source": []
  }
 ],
 "metadata": {
  "kernelspec": {
   "display_name": "Python 3",
   "language": "python",
   "name": "python3"
  },
  "language_info": {
   "codemirror_mode": {
    "name": "ipython",
    "version": 3
   },
   "file_extension": ".py",
   "mimetype": "text/x-python",
   "name": "python",
   "nbconvert_exporter": "python",
   "pygments_lexer": "ipython3",
   "version": "3.9.3 (tags/v3.9.3:e723086, Apr  2 2021, 11:35:20) [MSC v.1928 64 bit (AMD64)]"
  },
  "orig_nbformat": 4,
  "vscode": {
   "interpreter": {
    "hash": "5a1ee337b682cd95343797d80150fd2bd6ab72b1f35807bec9bb1f0b7fb0c443"
   }
  }
 },
 "nbformat": 4,
 "nbformat_minor": 2
}
