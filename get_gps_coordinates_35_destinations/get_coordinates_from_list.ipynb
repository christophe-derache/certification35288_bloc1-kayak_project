{
 "cells": [
  {
   "cell_type": "code",
   "execution_count": 1,
   "metadata": {},
   "outputs": [],
   "source": [
    "import requests\n",
    "import time\n",
    "import json\n",
    "\n",
    "def get_coordinates(city):\n",
    "    city = city\n",
    "    url = f\"https://nominatim.openstreetmap.org/search?q={city}&format=jsonv2&limit=1\"\n",
    "    response_api = requests.get(url)\n",
    "    print(f'{url}')\n",
    "    return response_api"
   ]
  },
  {
   "cell_type": "code",
   "execution_count": 2,
   "metadata": {},
   "outputs": [],
   "source": [
    "list_to_get = [\"Mont Saint Michel\", \"St Malo\",\"Bayeux\",\"Le Havre\",\"Rouen\",\"Paris\",\n",
    "                \"Amiens\",\"Lille\",\"Strasbourg\",\"Chateau du Haut Koenigsbourg\",\"Colmar\",\n",
    "                \"Eguisheim\",\"Besancon\",\"Dijon\",\"Annecy\",\"Grenoble\",\"Lyon\",\"Gorges du Verdon\",\n",
    "                \"Bormes les Mimosas\",\"Cassis\",\"Marseille\",\"Aix en Provence\",\"Avignon\",\n",
    "                \"Uzes\",\"Nimes\",\"Aigues Mortes\",\"Saintes Maries de la mer\",\"Collioure\",\n",
    "                \"Carcassonne\",\"Ariege\",\"Toulouse\",\"Montauban\",\"Biarritz\",\"Bayonne\",\n",
    "                \"La Rochelle\"]\n",
    "\n",
    "\n",
    "\n"
   ]
  },
  {
   "cell_type": "code",
   "execution_count": 3,
   "metadata": {},
   "outputs": [
    {
     "name": "stdout",
     "output_type": "stream",
     "text": [
      "['Mont+Saint+Michel', 'St+Malo', 'Bayeux', 'Le+Havre', 'Rouen', 'Paris', 'Amiens', 'Lille', 'Strasbourg', 'Chateau+du+Haut+Koenigsbourg', 'Colmar', 'Eguisheim', 'Besancon', 'Dijon', 'Annecy', 'Grenoble', 'Lyon', 'Gorges+du+Verdon', 'Bormes+les+Mimosas', 'Cassis', 'Marseille', 'Aix+en+Provence', 'Avignon', 'Uzes', 'Nimes', 'Aigues+Mortes', 'Saintes+Maries+de+la+mer', 'Collioure', 'Carcassonne', 'Ariege', 'Toulouse', 'Montauban', 'Biarritz', 'Bayonne', 'La+Rochelle']\n"
     ]
    }
   ],
   "source": [
    "list_to_get_processed = []\n",
    "\n",
    "for element in list_to_get:\n",
    "    list_to_get_processed.append(element.replace(\" \", \"+\"))\n",
    "print(list_to_get_processed)"
   ]
  },
  {
   "cell_type": "code",
   "execution_count": 4,
   "metadata": {},
   "outputs": [
    {
     "data": {
      "text/plain": [
       "35"
      ]
     },
     "execution_count": 4,
     "metadata": {},
     "output_type": "execute_result"
    }
   ],
   "source": [
    "len(list_to_get_processed)"
   ]
  },
  {
   "cell_type": "code",
   "execution_count": 5,
   "metadata": {},
   "outputs": [
    {
     "name": "stdout",
     "output_type": "stream",
     "text": [
      "https://nominatim.openstreetmap.org/search?q=Mont+Saint+Michel&format=jsonv2&limit=1\n",
      "tour de boucle : 1\n",
      "donnée entrée dans dictionnaire, ville: Mont+Saint+Michel : latitude : 48.6359541, longitude : -1.511459954959514\n",
      "https://nominatim.openstreetmap.org/search?q=St+Malo&format=jsonv2&limit=1\n",
      "tour de boucle : 2\n",
      "donnée entrée dans dictionnaire, ville: St+Malo : latitude : 48.649518, longitude : -2.0260409\n",
      "https://nominatim.openstreetmap.org/search?q=Bayeux&format=jsonv2&limit=1\n",
      "tour de boucle : 3\n",
      "donnée entrée dans dictionnaire, ville: Bayeux : latitude : 49.2764624, longitude : -0.7024738\n",
      "https://nominatim.openstreetmap.org/search?q=Le+Havre&format=jsonv2&limit=1\n",
      "tour de boucle : 4\n",
      "donnée entrée dans dictionnaire, ville: Le+Havre : latitude : 49.4938975, longitude : 0.1079732\n",
      "https://nominatim.openstreetmap.org/search?q=Rouen&format=jsonv2&limit=1\n",
      "tour de boucle : 5\n",
      "donnée entrée dans dictionnaire, ville: Rouen : latitude : 49.4404591, longitude : 1.0939658\n",
      "https://nominatim.openstreetmap.org/search?q=Paris&format=jsonv2&limit=1\n",
      "tour de boucle : 6\n",
      "donnée entrée dans dictionnaire, ville: Paris : latitude : 48.8588897, longitude : 2.3200410217200766\n",
      "https://nominatim.openstreetmap.org/search?q=Amiens&format=jsonv2&limit=1\n",
      "tour de boucle : 7\n",
      "donnée entrée dans dictionnaire, ville: Amiens : latitude : 49.8941708, longitude : 2.2956951\n",
      "https://nominatim.openstreetmap.org/search?q=Lille&format=jsonv2&limit=1\n",
      "tour de boucle : 8\n",
      "donnée entrée dans dictionnaire, ville: Lille : latitude : 50.6365654, longitude : 3.0635282\n",
      "https://nominatim.openstreetmap.org/search?q=Strasbourg&format=jsonv2&limit=1\n",
      "tour de boucle : 9\n",
      "donnée entrée dans dictionnaire, ville: Strasbourg : latitude : 48.584614, longitude : 7.7507127\n",
      "https://nominatim.openstreetmap.org/search?q=Chateau+du+Haut+Koenigsbourg&format=jsonv2&limit=1\n",
      "tour de boucle : 10\n",
      "donnée entrée dans dictionnaire, ville: Chateau+du+Haut+Koenigsbourg : latitude : 48.249489800000006, longitude : 7.34429620253195\n",
      "https://nominatim.openstreetmap.org/search?q=Colmar&format=jsonv2&limit=1\n",
      "tour de boucle : 11\n",
      "donnée entrée dans dictionnaire, ville: Colmar : latitude : 48.0777517, longitude : 7.3579641\n",
      "https://nominatim.openstreetmap.org/search?q=Eguisheim&format=jsonv2&limit=1\n",
      "tour de boucle : 12\n",
      "donnée entrée dans dictionnaire, ville: Eguisheim : latitude : 48.0447968, longitude : 7.3079618\n",
      "https://nominatim.openstreetmap.org/search?q=Besancon&format=jsonv2&limit=1\n",
      "tour de boucle : 13\n",
      "donnée entrée dans dictionnaire, ville: Besancon : latitude : 47.2380222, longitude : 6.0243622\n",
      "https://nominatim.openstreetmap.org/search?q=Dijon&format=jsonv2&limit=1\n",
      "tour de boucle : 14\n",
      "donnée entrée dans dictionnaire, ville: Dijon : latitude : 47.3215806, longitude : 5.0414701\n",
      "https://nominatim.openstreetmap.org/search?q=Annecy&format=jsonv2&limit=1\n",
      "tour de boucle : 15\n",
      "donnée entrée dans dictionnaire, ville: Annecy : latitude : 45.8992348, longitude : 6.1288847\n",
      "https://nominatim.openstreetmap.org/search?q=Grenoble&format=jsonv2&limit=1\n",
      "tour de boucle : 16\n",
      "donnée entrée dans dictionnaire, ville: Grenoble : latitude : 45.1875602, longitude : 5.7357819\n",
      "https://nominatim.openstreetmap.org/search?q=Lyon&format=jsonv2&limit=1\n",
      "tour de boucle : 17\n",
      "donnée entrée dans dictionnaire, ville: Lyon : latitude : 45.7578137, longitude : 4.8320114\n",
      "https://nominatim.openstreetmap.org/search?q=Gorges+du+Verdon&format=jsonv2&limit=1\n",
      "tour de boucle : 18\n",
      "donnée entrée dans dictionnaire, ville: Gorges+du+Verdon : latitude : 43.7496562, longitude : 6.3285616\n",
      "https://nominatim.openstreetmap.org/search?q=Bormes+les+Mimosas&format=jsonv2&limit=1\n",
      "tour de boucle : 19\n",
      "donnée entrée dans dictionnaire, ville: Bormes+les+Mimosas : latitude : 43.1506968, longitude : 6.3419285\n",
      "https://nominatim.openstreetmap.org/search?q=Cassis&format=jsonv2&limit=1\n",
      "tour de boucle : 20\n",
      "donnée entrée dans dictionnaire, ville: Cassis : latitude : 43.2140359, longitude : 5.5396318\n",
      "https://nominatim.openstreetmap.org/search?q=Marseille&format=jsonv2&limit=1\n",
      "tour de boucle : 21\n",
      "donnée entrée dans dictionnaire, ville: Marseille : latitude : 43.2961743, longitude : 5.3699525\n",
      "https://nominatim.openstreetmap.org/search?q=Aix+en+Provence&format=jsonv2&limit=1\n",
      "tour de boucle : 22\n",
      "donnée entrée dans dictionnaire, ville: Aix+en+Provence : latitude : 43.5298424, longitude : 5.4474738\n",
      "https://nominatim.openstreetmap.org/search?q=Avignon&format=jsonv2&limit=1\n",
      "tour de boucle : 23\n",
      "donnée entrée dans dictionnaire, ville: Avignon : latitude : 43.9492493, longitude : 4.8059012\n",
      "https://nominatim.openstreetmap.org/search?q=Uzes&format=jsonv2&limit=1\n",
      "tour de boucle : 24\n",
      "donnée entrée dans dictionnaire, ville: Uzes : latitude : 44.0121279, longitude : 4.4196718\n",
      "https://nominatim.openstreetmap.org/search?q=Nimes&format=jsonv2&limit=1\n",
      "tour de boucle : 25\n",
      "donnée entrée dans dictionnaire, ville: Nimes : latitude : 43.8374249, longitude : 4.3600687\n",
      "https://nominatim.openstreetmap.org/search?q=Aigues+Mortes&format=jsonv2&limit=1\n",
      "tour de boucle : 26\n",
      "donnée entrée dans dictionnaire, ville: Aigues+Mortes : latitude : 43.5658225, longitude : 4.1912837\n",
      "https://nominatim.openstreetmap.org/search?q=Saintes+Maries+de+la+mer&format=jsonv2&limit=1\n",
      "tour de boucle : 27\n",
      "donnée entrée dans dictionnaire, ville: Saintes+Maries+de+la+mer : latitude : 43.4522771, longitude : 4.4287172\n",
      "https://nominatim.openstreetmap.org/search?q=Collioure&format=jsonv2&limit=1\n",
      "tour de boucle : 28\n",
      "donnée entrée dans dictionnaire, ville: Collioure : latitude : 42.52505, longitude : 3.0831554\n",
      "https://nominatim.openstreetmap.org/search?q=Carcassonne&format=jsonv2&limit=1\n",
      "tour de boucle : 29\n",
      "donnée entrée dans dictionnaire, ville: Carcassonne : latitude : 43.2130358, longitude : 2.3491069\n",
      "https://nominatim.openstreetmap.org/search?q=Ariege&format=jsonv2&limit=1\n",
      "tour de boucle : 30\n",
      "donnée entrée dans dictionnaire, ville: Ariege : latitude : 42.9455368, longitude : 1.4065544156065486\n",
      "https://nominatim.openstreetmap.org/search?q=Toulouse&format=jsonv2&limit=1\n",
      "tour de boucle : 31\n",
      "donnée entrée dans dictionnaire, ville: Toulouse : latitude : 43.6044622, longitude : 1.4442469\n",
      "https://nominatim.openstreetmap.org/search?q=Montauban&format=jsonv2&limit=1\n",
      "tour de boucle : 32\n",
      "donnée entrée dans dictionnaire, ville: Montauban : latitude : 44.0175835, longitude : 1.3549991\n",
      "https://nominatim.openstreetmap.org/search?q=Biarritz&format=jsonv2&limit=1\n",
      "tour de boucle : 33\n",
      "donnée entrée dans dictionnaire, ville: Biarritz : latitude : 43.471143749999996, longitude : -1.552726590666314\n",
      "https://nominatim.openstreetmap.org/search?q=Bayonne&format=jsonv2&limit=1\n",
      "tour de boucle : 34\n",
      "donnée entrée dans dictionnaire, ville: Bayonne : latitude : 43.4945144, longitude : -1.4736657\n",
      "https://nominatim.openstreetmap.org/search?q=La+Rochelle&format=jsonv2&limit=1\n",
      "tour de boucle : 35\n",
      "donnée entrée dans dictionnaire, ville: La+Rochelle : latitude : 46.1591126, longitude : -1.1520434\n"
     ]
    }
   ],
   "source": [
    "dict_city_gps = {}\n",
    "count = 0\n",
    "\n",
    "for city in list_to_get_processed:\n",
    "    \n",
    "    result = get_coordinates(city)\n",
    "    time.sleep(2.5)\n",
    "    count += 1\n",
    "    print(f'tour de boucle : {count}')\n",
    "    result_json = result.json()\n",
    "    latitude = result_json[0]['lat']\n",
    "    longitude = result_json[0]['lon']\n",
    "    dict_city_gps[city] = {'latitude':latitude, 'longitude':longitude}\n",
    "    print(f'donnée entrée dans dictionnaire, ville: {city} : latitude : {latitude}, longitude : {longitude}')\n",
    "      \n",
    "    \n",
    "    \n"
   ]
  },
  {
   "cell_type": "code",
   "execution_count": 6,
   "metadata": {},
   "outputs": [],
   "source": [
    "with open('dict_gps','w') as file:\n",
    "    file.write(json.dumps(dict_city_gps))"
   ]
  }
 ],
 "metadata": {
  "kernelspec": {
   "display_name": "Python 3.9.3 64-bit",
   "language": "python",
   "name": "python3"
  },
  "language_info": {
   "codemirror_mode": {
    "name": "ipython",
    "version": 3
   },
   "file_extension": ".py",
   "mimetype": "text/x-python",
   "name": "python",
   "nbconvert_exporter": "python",
   "pygments_lexer": "ipython3",
   "version": "3.9.3"
  },
  "orig_nbformat": 4,
  "vscode": {
   "interpreter": {
    "hash": "5a1ee337b682cd95343797d80150fd2bd6ab72b1f35807bec9bb1f0b7fb0c443"
   }
  }
 },
 "nbformat": 4,
 "nbformat_minor": 2
}
