{
 "cells": [
  {
   "cell_type": "code",
   "execution_count": 1,
   "metadata": {},
   "outputs": [],
   "source": [
    "import pandas as pd\n",
    "pd.set_option('display.max_columns', None)\n",
    "import plotly.express as px"
   ]
  },
  {
   "cell_type": "code",
   "execution_count": 2,
   "metadata": {},
   "outputs": [],
   "source": [
    "df = pd.read_csv('src/merged_weather_hotels_data.csv')"
   ]
  },
  {
   "cell_type": "code",
   "execution_count": 3,
   "metadata": {},
   "outputs": [
    {
     "data": {
      "text/html": [
       "<div>\n",
       "<style scoped>\n",
       "    .dataframe tbody tr th:only-of-type {\n",
       "        vertical-align: middle;\n",
       "    }\n",
       "\n",
       "    .dataframe tbody tr th {\n",
       "        vertical-align: top;\n",
       "    }\n",
       "\n",
       "    .dataframe thead th {\n",
       "        text-align: right;\n",
       "    }\n",
       "</style>\n",
       "<table border=\"1\" class=\"dataframe\">\n",
       "  <thead>\n",
       "    <tr style=\"text-align: right;\">\n",
       "      <th></th>\n",
       "      <th>namecity</th>\n",
       "      <th>name</th>\n",
       "      <th>link</th>\n",
       "      <th>review_score</th>\n",
       "      <th>review_count</th>\n",
       "      <th>area</th>\n",
       "      <th>address</th>\n",
       "      <th>hotel_latitude</th>\n",
       "      <th>hotel_longitude</th>\n",
       "      <th>description</th>\n",
       "      <th>cityname</th>\n",
       "      <th>latitude</th>\n",
       "      <th>longitude</th>\n",
       "      <th>temperature_j1</th>\n",
       "      <th>precipitation_j1</th>\n",
       "      <th>weathercode_j1</th>\n",
       "      <th>temperature_j2</th>\n",
       "      <th>precipitation_j2</th>\n",
       "      <th>weathercode_j2</th>\n",
       "      <th>temperature_j3</th>\n",
       "      <th>precipitation_j3</th>\n",
       "      <th>weathercode_j3</th>\n",
       "      <th>temperature_j4</th>\n",
       "      <th>precipitation_j4</th>\n",
       "      <th>weathercode_j4</th>\n",
       "      <th>temperature_j5</th>\n",
       "      <th>precipitation_j5</th>\n",
       "      <th>weathercode_j5</th>\n",
       "      <th>temperature_j6</th>\n",
       "      <th>precipitation_j6</th>\n",
       "      <th>weathercode_j6</th>\n",
       "      <th>temperature_j7</th>\n",
       "      <th>precipitation_j7</th>\n",
       "      <th>weathercode_j7</th>\n",
       "      <th>mean_temp</th>\n",
       "      <th>sum_precipitation</th>\n",
       "      <th>top_weather_code</th>\n",
       "    </tr>\n",
       "  </thead>\n",
       "  <tbody>\n",
       "    <tr>\n",
       "      <th>0</th>\n",
       "      <td>Mont Saint Michel</td>\n",
       "      <td>Hôtel Vert</td>\n",
       "      <td>https://www.booking.com/hotel/fr/vert.fr.html?...</td>\n",
       "      <td>8,0</td>\n",
       "      <td>4 389 expériences vécues</td>\n",
       "      <td>Le Mont-Saint-Michel</td>\n",
       "      <td>La Caserne, 50170 Le Mont-Saint-Michel, France</td>\n",
       "      <td>48.614700</td>\n",
       "      <td>-1.509617</td>\n",
       "      <td>Vous pouvez bénéficier d'une réduction Genius ...</td>\n",
       "      <td>Mont Saint Michel</td>\n",
       "      <td>48.635954</td>\n",
       "      <td>-1.51146</td>\n",
       "      <td>10.0</td>\n",
       "      <td>0.0</td>\n",
       "      <td>2</td>\n",
       "      <td>11.1</td>\n",
       "      <td>0.0</td>\n",
       "      <td>3</td>\n",
       "      <td>13.9</td>\n",
       "      <td>0.0</td>\n",
       "      <td>3</td>\n",
       "      <td>12.8</td>\n",
       "      <td>0.0</td>\n",
       "      <td>3</td>\n",
       "      <td>12.7</td>\n",
       "      <td>0.0</td>\n",
       "      <td>3</td>\n",
       "      <td>11.0</td>\n",
       "      <td>0.1</td>\n",
       "      <td>3</td>\n",
       "      <td>12.4</td>\n",
       "      <td>0.0</td>\n",
       "      <td>3</td>\n",
       "      <td>11.985714</td>\n",
       "      <td>0.1</td>\n",
       "      <td>3</td>\n",
       "    </tr>\n",
       "    <tr>\n",
       "      <th>1</th>\n",
       "      <td>Mont Saint Michel</td>\n",
       "      <td>Mercure Mont Saint Michel</td>\n",
       "      <td>https://www.booking.com/hotel/fr/mont-saint-mi...</td>\n",
       "      <td>8,2</td>\n",
       "      <td>3 570 expériences vécues</td>\n",
       "      <td>Le Mont-Saint-Michel</td>\n",
       "      <td>La Caserne, 50170 Le Mont-Saint-Michel, France</td>\n",
       "      <td>48.614247</td>\n",
       "      <td>-1.510545</td>\n",
       "      <td>Installé dans des espaces verts à seulement 2 ...</td>\n",
       "      <td>Mont Saint Michel</td>\n",
       "      <td>48.635954</td>\n",
       "      <td>-1.51146</td>\n",
       "      <td>10.0</td>\n",
       "      <td>0.0</td>\n",
       "      <td>2</td>\n",
       "      <td>11.1</td>\n",
       "      <td>0.0</td>\n",
       "      <td>3</td>\n",
       "      <td>13.9</td>\n",
       "      <td>0.0</td>\n",
       "      <td>3</td>\n",
       "      <td>12.8</td>\n",
       "      <td>0.0</td>\n",
       "      <td>3</td>\n",
       "      <td>12.7</td>\n",
       "      <td>0.0</td>\n",
       "      <td>3</td>\n",
       "      <td>11.0</td>\n",
       "      <td>0.1</td>\n",
       "      <td>3</td>\n",
       "      <td>12.4</td>\n",
       "      <td>0.0</td>\n",
       "      <td>3</td>\n",
       "      <td>11.985714</td>\n",
       "      <td>0.1</td>\n",
       "      <td>3</td>\n",
       "    </tr>\n",
       "    <tr>\n",
       "      <th>2</th>\n",
       "      <td>Mont Saint Michel</td>\n",
       "      <td>La Mère Poulard</td>\n",
       "      <td>https://www.booking.com/hotel/fr/la-mere-poula...</td>\n",
       "      <td>7,0</td>\n",
       "      <td>2 044 expériences vécues</td>\n",
       "      <td>Le Mont-Saint-Michel</td>\n",
       "      <td>Grande Rue, 50170 Le Mont-Saint-Michel, France</td>\n",
       "      <td>48.635085</td>\n",
       "      <td>-1.510540</td>\n",
       "      <td>Vous pouvez bénéficier d'une réduction Genius ...</td>\n",
       "      <td>Mont Saint Michel</td>\n",
       "      <td>48.635954</td>\n",
       "      <td>-1.51146</td>\n",
       "      <td>10.0</td>\n",
       "      <td>0.0</td>\n",
       "      <td>2</td>\n",
       "      <td>11.1</td>\n",
       "      <td>0.0</td>\n",
       "      <td>3</td>\n",
       "      <td>13.9</td>\n",
       "      <td>0.0</td>\n",
       "      <td>3</td>\n",
       "      <td>12.8</td>\n",
       "      <td>0.0</td>\n",
       "      <td>3</td>\n",
       "      <td>12.7</td>\n",
       "      <td>0.0</td>\n",
       "      <td>3</td>\n",
       "      <td>11.0</td>\n",
       "      <td>0.1</td>\n",
       "      <td>3</td>\n",
       "      <td>12.4</td>\n",
       "      <td>0.0</td>\n",
       "      <td>3</td>\n",
       "      <td>11.985714</td>\n",
       "      <td>0.1</td>\n",
       "      <td>3</td>\n",
       "    </tr>\n",
       "    <tr>\n",
       "      <th>3</th>\n",
       "      <td>Mont Saint Michel</td>\n",
       "      <td>Hotel De La Digue</td>\n",
       "      <td>https://www.booking.com/hotel/fr/de-la-digue.f...</td>\n",
       "      <td>7,1</td>\n",
       "      <td>2 949 expériences vécues</td>\n",
       "      <td>Le Mont-Saint-Michel</td>\n",
       "      <td>La Caserne, 50170 Le Mont-Saint-Michel, France</td>\n",
       "      <td>48.616882</td>\n",
       "      <td>-1.510918</td>\n",
       "      <td>L'hôtel De La Digue est un établissement tradi...</td>\n",
       "      <td>Mont Saint Michel</td>\n",
       "      <td>48.635954</td>\n",
       "      <td>-1.51146</td>\n",
       "      <td>10.0</td>\n",
       "      <td>0.0</td>\n",
       "      <td>2</td>\n",
       "      <td>11.1</td>\n",
       "      <td>0.0</td>\n",
       "      <td>3</td>\n",
       "      <td>13.9</td>\n",
       "      <td>0.0</td>\n",
       "      <td>3</td>\n",
       "      <td>12.8</td>\n",
       "      <td>0.0</td>\n",
       "      <td>3</td>\n",
       "      <td>12.7</td>\n",
       "      <td>0.0</td>\n",
       "      <td>3</td>\n",
       "      <td>11.0</td>\n",
       "      <td>0.1</td>\n",
       "      <td>3</td>\n",
       "      <td>12.4</td>\n",
       "      <td>0.0</td>\n",
       "      <td>3</td>\n",
       "      <td>11.985714</td>\n",
       "      <td>0.1</td>\n",
       "      <td>3</td>\n",
       "    </tr>\n",
       "    <tr>\n",
       "      <th>4</th>\n",
       "      <td>Mont Saint Michel</td>\n",
       "      <td>Le Relais Saint Michel</td>\n",
       "      <td>https://www.booking.com/hotel/fr/le-relais-sai...</td>\n",
       "      <td>7,8</td>\n",
       "      <td>3 111 expériences vécues</td>\n",
       "      <td>Le Mont-Saint-Michel</td>\n",
       "      <td>La Caserne, 50170 Le Mont-Saint-Michel, France</td>\n",
       "      <td>48.617587</td>\n",
       "      <td>-1.510396</td>\n",
       "      <td>Vous pouvez bénéficier d'une réduction Genius ...</td>\n",
       "      <td>Mont Saint Michel</td>\n",
       "      <td>48.635954</td>\n",
       "      <td>-1.51146</td>\n",
       "      <td>10.0</td>\n",
       "      <td>0.0</td>\n",
       "      <td>2</td>\n",
       "      <td>11.1</td>\n",
       "      <td>0.0</td>\n",
       "      <td>3</td>\n",
       "      <td>13.9</td>\n",
       "      <td>0.0</td>\n",
       "      <td>3</td>\n",
       "      <td>12.8</td>\n",
       "      <td>0.0</td>\n",
       "      <td>3</td>\n",
       "      <td>12.7</td>\n",
       "      <td>0.0</td>\n",
       "      <td>3</td>\n",
       "      <td>11.0</td>\n",
       "      <td>0.1</td>\n",
       "      <td>3</td>\n",
       "      <td>12.4</td>\n",
       "      <td>0.0</td>\n",
       "      <td>3</td>\n",
       "      <td>11.985714</td>\n",
       "      <td>0.1</td>\n",
       "      <td>3</td>\n",
       "    </tr>\n",
       "  </tbody>\n",
       "</table>\n",
       "</div>"
      ],
      "text/plain": [
       "            namecity                       name  \\\n",
       "0  Mont Saint Michel                 Hôtel Vert   \n",
       "1  Mont Saint Michel  Mercure Mont Saint Michel   \n",
       "2  Mont Saint Michel            La Mère Poulard   \n",
       "3  Mont Saint Michel          Hotel De La Digue   \n",
       "4  Mont Saint Michel     Le Relais Saint Michel   \n",
       "\n",
       "                                                link review_score  \\\n",
       "0  https://www.booking.com/hotel/fr/vert.fr.html?...          8,0   \n",
       "1  https://www.booking.com/hotel/fr/mont-saint-mi...          8,2   \n",
       "2  https://www.booking.com/hotel/fr/la-mere-poula...          7,0   \n",
       "3  https://www.booking.com/hotel/fr/de-la-digue.f...          7,1   \n",
       "4  https://www.booking.com/hotel/fr/le-relais-sai...          7,8   \n",
       "\n",
       "               review_count                  area  \\\n",
       "0  4 389 expériences vécues  Le Mont-Saint-Michel   \n",
       "1  3 570 expériences vécues  Le Mont-Saint-Michel   \n",
       "2  2 044 expériences vécues  Le Mont-Saint-Michel   \n",
       "3  2 949 expériences vécues  Le Mont-Saint-Michel   \n",
       "4  3 111 expériences vécues  Le Mont-Saint-Michel   \n",
       "\n",
       "                                          address  hotel_latitude  \\\n",
       "0  La Caserne, 50170 Le Mont-Saint-Michel, France       48.614700   \n",
       "1  La Caserne, 50170 Le Mont-Saint-Michel, France       48.614247   \n",
       "2  Grande Rue, 50170 Le Mont-Saint-Michel, France       48.635085   \n",
       "3  La Caserne, 50170 Le Mont-Saint-Michel, France       48.616882   \n",
       "4  La Caserne, 50170 Le Mont-Saint-Michel, France       48.617587   \n",
       "\n",
       "   hotel_longitude                                        description  \\\n",
       "0        -1.509617  Vous pouvez bénéficier d'une réduction Genius ...   \n",
       "1        -1.510545  Installé dans des espaces verts à seulement 2 ...   \n",
       "2        -1.510540  Vous pouvez bénéficier d'une réduction Genius ...   \n",
       "3        -1.510918  L'hôtel De La Digue est un établissement tradi...   \n",
       "4        -1.510396  Vous pouvez bénéficier d'une réduction Genius ...   \n",
       "\n",
       "            cityname   latitude  longitude  temperature_j1  precipitation_j1  \\\n",
       "0  Mont Saint Michel  48.635954   -1.51146            10.0               0.0   \n",
       "1  Mont Saint Michel  48.635954   -1.51146            10.0               0.0   \n",
       "2  Mont Saint Michel  48.635954   -1.51146            10.0               0.0   \n",
       "3  Mont Saint Michel  48.635954   -1.51146            10.0               0.0   \n",
       "4  Mont Saint Michel  48.635954   -1.51146            10.0               0.0   \n",
       "\n",
       "   weathercode_j1  temperature_j2  precipitation_j2  weathercode_j2  \\\n",
       "0               2            11.1               0.0               3   \n",
       "1               2            11.1               0.0               3   \n",
       "2               2            11.1               0.0               3   \n",
       "3               2            11.1               0.0               3   \n",
       "4               2            11.1               0.0               3   \n",
       "\n",
       "   temperature_j3  precipitation_j3  weathercode_j3  temperature_j4  \\\n",
       "0            13.9               0.0               3            12.8   \n",
       "1            13.9               0.0               3            12.8   \n",
       "2            13.9               0.0               3            12.8   \n",
       "3            13.9               0.0               3            12.8   \n",
       "4            13.9               0.0               3            12.8   \n",
       "\n",
       "   precipitation_j4  weathercode_j4  temperature_j5  precipitation_j5  \\\n",
       "0               0.0               3            12.7               0.0   \n",
       "1               0.0               3            12.7               0.0   \n",
       "2               0.0               3            12.7               0.0   \n",
       "3               0.0               3            12.7               0.0   \n",
       "4               0.0               3            12.7               0.0   \n",
       "\n",
       "   weathercode_j5  temperature_j6  precipitation_j6  weathercode_j6  \\\n",
       "0               3            11.0               0.1               3   \n",
       "1               3            11.0               0.1               3   \n",
       "2               3            11.0               0.1               3   \n",
       "3               3            11.0               0.1               3   \n",
       "4               3            11.0               0.1               3   \n",
       "\n",
       "   temperature_j7  precipitation_j7  weathercode_j7  mean_temp  \\\n",
       "0            12.4               0.0               3  11.985714   \n",
       "1            12.4               0.0               3  11.985714   \n",
       "2            12.4               0.0               3  11.985714   \n",
       "3            12.4               0.0               3  11.985714   \n",
       "4            12.4               0.0               3  11.985714   \n",
       "\n",
       "   sum_precipitation  top_weather_code  \n",
       "0                0.1                 3  \n",
       "1                0.1                 3  \n",
       "2                0.1                 3  \n",
       "3                0.1                 3  \n",
       "4                0.1                 3  "
      ]
     },
     "execution_count": 3,
     "metadata": {},
     "output_type": "execute_result"
    }
   ],
   "source": [
    "df.head(5)"
   ]
  },
  {
   "attachments": {},
   "cell_type": "markdown",
   "metadata": {},
   "source": [
    "## Step 1 - sort value by 5 best destinations"
   ]
  },
  {
   "cell_type": "code",
   "execution_count": 4,
   "metadata": {},
   "outputs": [],
   "source": [
    "df_sorted = df.sort_values(['top_weather_code','sum_precipitation','mean_temp'], \n",
    "                            ascending=[True, True, False],\n",
    "                            ignore_index=True,\n",
    "                            )"
   ]
  },
  {
   "cell_type": "code",
   "execution_count": 5,
   "metadata": {},
   "outputs": [
    {
     "data": {
      "text/plain": [
       "(125, 37)"
      ]
     },
     "execution_count": 5,
     "metadata": {},
     "output_type": "execute_result"
    }
   ],
   "source": [
    "best_destinations = df_sorted.iloc[:125,:]\n",
    "best_destinations.shape"
   ]
  },
  {
   "cell_type": "code",
   "execution_count": 6,
   "metadata": {},
   "outputs": [
    {
     "data": {
      "text/html": [
       "<div>\n",
       "<style scoped>\n",
       "    .dataframe tbody tr th:only-of-type {\n",
       "        vertical-align: middle;\n",
       "    }\n",
       "\n",
       "    .dataframe tbody tr th {\n",
       "        vertical-align: top;\n",
       "    }\n",
       "\n",
       "    .dataframe thead th {\n",
       "        text-align: right;\n",
       "    }\n",
       "</style>\n",
       "<table border=\"1\" class=\"dataframe\">\n",
       "  <thead>\n",
       "    <tr style=\"text-align: right;\">\n",
       "      <th></th>\n",
       "      <th>namecity</th>\n",
       "      <th>name</th>\n",
       "      <th>link</th>\n",
       "      <th>review_score</th>\n",
       "      <th>review_count</th>\n",
       "      <th>area</th>\n",
       "      <th>address</th>\n",
       "      <th>hotel_latitude</th>\n",
       "      <th>hotel_longitude</th>\n",
       "      <th>description</th>\n",
       "      <th>cityname</th>\n",
       "      <th>latitude</th>\n",
       "      <th>longitude</th>\n",
       "      <th>temperature_j1</th>\n",
       "      <th>precipitation_j1</th>\n",
       "      <th>weathercode_j1</th>\n",
       "      <th>temperature_j2</th>\n",
       "      <th>precipitation_j2</th>\n",
       "      <th>weathercode_j2</th>\n",
       "      <th>temperature_j3</th>\n",
       "      <th>precipitation_j3</th>\n",
       "      <th>weathercode_j3</th>\n",
       "      <th>temperature_j4</th>\n",
       "      <th>precipitation_j4</th>\n",
       "      <th>weathercode_j4</th>\n",
       "      <th>temperature_j5</th>\n",
       "      <th>precipitation_j5</th>\n",
       "      <th>weathercode_j5</th>\n",
       "      <th>temperature_j6</th>\n",
       "      <th>precipitation_j6</th>\n",
       "      <th>weathercode_j6</th>\n",
       "      <th>temperature_j7</th>\n",
       "      <th>precipitation_j7</th>\n",
       "      <th>weathercode_j7</th>\n",
       "      <th>mean_temp</th>\n",
       "      <th>sum_precipitation</th>\n",
       "      <th>top_weather_code</th>\n",
       "    </tr>\n",
       "  </thead>\n",
       "  <tbody>\n",
       "    <tr>\n",
       "      <th>0</th>\n",
       "      <td>Bayonne</td>\n",
       "      <td>Villa la Renaissance</td>\n",
       "      <td>https://www.booking.com/hotel/fr/villa-la-rena...</td>\n",
       "      <td>9,2</td>\n",
       "      <td>279 expériences vécues</td>\n",
       "      <td>Bayonne</td>\n",
       "      <td>12 Chemin de Jacquette, 64100 Bayonne, France</td>\n",
       "      <td>43.482321</td>\n",
       "      <td>-1.468164</td>\n",
       "      <td>La Villa la Renaissance propose des chambres à...</td>\n",
       "      <td>Bayonne</td>\n",
       "      <td>43.494514</td>\n",
       "      <td>-1.473666</td>\n",
       "      <td>13.5</td>\n",
       "      <td>0.0</td>\n",
       "      <td>3</td>\n",
       "      <td>13.7</td>\n",
       "      <td>0.0</td>\n",
       "      <td>2</td>\n",
       "      <td>13.3</td>\n",
       "      <td>0.0</td>\n",
       "      <td>3</td>\n",
       "      <td>14.5</td>\n",
       "      <td>0.0</td>\n",
       "      <td>0</td>\n",
       "      <td>13.3</td>\n",
       "      <td>0.0</td>\n",
       "      <td>0</td>\n",
       "      <td>14.2</td>\n",
       "      <td>0.0</td>\n",
       "      <td>3</td>\n",
       "      <td>15.6</td>\n",
       "      <td>0.0</td>\n",
       "      <td>3</td>\n",
       "      <td>14.014286</td>\n",
       "      <td>0.0</td>\n",
       "      <td>3</td>\n",
       "    </tr>\n",
       "    <tr>\n",
       "      <th>1</th>\n",
       "      <td>Bayonne</td>\n",
       "      <td>Hotel Cote Basque</td>\n",
       "      <td>https://www.booking.com/hotel/fr/cote-basque.f...</td>\n",
       "      <td>7,8</td>\n",
       "      <td>3 507 expériences vécues</td>\n",
       "      <td>Bayonne</td>\n",
       "      <td>2 rue Maubec, 64100 Bayonne, France</td>\n",
       "      <td>43.496183</td>\n",
       "      <td>-1.469601</td>\n",
       "      <td>Vous pouvez bénéficier d'une réduction Genius ...</td>\n",
       "      <td>Bayonne</td>\n",
       "      <td>43.494514</td>\n",
       "      <td>-1.473666</td>\n",
       "      <td>13.5</td>\n",
       "      <td>0.0</td>\n",
       "      <td>3</td>\n",
       "      <td>13.7</td>\n",
       "      <td>0.0</td>\n",
       "      <td>2</td>\n",
       "      <td>13.3</td>\n",
       "      <td>0.0</td>\n",
       "      <td>3</td>\n",
       "      <td>14.5</td>\n",
       "      <td>0.0</td>\n",
       "      <td>0</td>\n",
       "      <td>13.3</td>\n",
       "      <td>0.0</td>\n",
       "      <td>0</td>\n",
       "      <td>14.2</td>\n",
       "      <td>0.0</td>\n",
       "      <td>3</td>\n",
       "      <td>15.6</td>\n",
       "      <td>0.0</td>\n",
       "      <td>3</td>\n",
       "      <td>14.014286</td>\n",
       "      <td>0.0</td>\n",
       "      <td>3</td>\n",
       "    </tr>\n",
       "    <tr>\n",
       "      <th>2</th>\n",
       "      <td>Bayonne</td>\n",
       "      <td>Parc 709 Bayonne</td>\n",
       "      <td>https://www.booking.com/hotel/fr/parc-709-bayo...</td>\n",
       "      <td>9,2</td>\n",
       "      <td>114 expériences vécues</td>\n",
       "      <td>Bayonne</td>\n",
       "      <td>6 Boulevard du BAB, 64100 Bayonne, France</td>\n",
       "      <td>43.495606</td>\n",
       "      <td>-1.481317</td>\n",
       "      <td>Vous pouvez bénéficier d'une réduction Genius ...</td>\n",
       "      <td>Bayonne</td>\n",
       "      <td>43.494514</td>\n",
       "      <td>-1.473666</td>\n",
       "      <td>13.5</td>\n",
       "      <td>0.0</td>\n",
       "      <td>3</td>\n",
       "      <td>13.7</td>\n",
       "      <td>0.0</td>\n",
       "      <td>2</td>\n",
       "      <td>13.3</td>\n",
       "      <td>0.0</td>\n",
       "      <td>3</td>\n",
       "      <td>14.5</td>\n",
       "      <td>0.0</td>\n",
       "      <td>0</td>\n",
       "      <td>13.3</td>\n",
       "      <td>0.0</td>\n",
       "      <td>0</td>\n",
       "      <td>14.2</td>\n",
       "      <td>0.0</td>\n",
       "      <td>3</td>\n",
       "      <td>15.6</td>\n",
       "      <td>0.0</td>\n",
       "      <td>3</td>\n",
       "      <td>14.014286</td>\n",
       "      <td>0.0</td>\n",
       "      <td>3</td>\n",
       "    </tr>\n",
       "    <tr>\n",
       "      <th>3</th>\n",
       "      <td>Bayonne</td>\n",
       "      <td>Maison d'hôtes City Break MIRADOUR</td>\n",
       "      <td>https://www.booking.com/hotel/fr/city-break-mi...</td>\n",
       "      <td>8,7</td>\n",
       "      <td>411 expériences vécues</td>\n",
       "      <td>Bayonne</td>\n",
       "      <td>9 Rue des Faures, 64100 Bayonne, France</td>\n",
       "      <td>43.489513</td>\n",
       "      <td>-1.479078</td>\n",
       "      <td>La Maison d'hôtes City Break MIRADOUR est situ...</td>\n",
       "      <td>Bayonne</td>\n",
       "      <td>43.494514</td>\n",
       "      <td>-1.473666</td>\n",
       "      <td>13.5</td>\n",
       "      <td>0.0</td>\n",
       "      <td>3</td>\n",
       "      <td>13.7</td>\n",
       "      <td>0.0</td>\n",
       "      <td>2</td>\n",
       "      <td>13.3</td>\n",
       "      <td>0.0</td>\n",
       "      <td>3</td>\n",
       "      <td>14.5</td>\n",
       "      <td>0.0</td>\n",
       "      <td>0</td>\n",
       "      <td>13.3</td>\n",
       "      <td>0.0</td>\n",
       "      <td>0</td>\n",
       "      <td>14.2</td>\n",
       "      <td>0.0</td>\n",
       "      <td>3</td>\n",
       "      <td>15.6</td>\n",
       "      <td>0.0</td>\n",
       "      <td>3</td>\n",
       "      <td>14.014286</td>\n",
       "      <td>0.0</td>\n",
       "      <td>3</td>\n",
       "    </tr>\n",
       "    <tr>\n",
       "      <th>4</th>\n",
       "      <td>Bayonne</td>\n",
       "      <td>Hôtel Villa KOEGUI Bayonne</td>\n",
       "      <td>https://www.booking.com/hotel/fr/villa-koegui-...</td>\n",
       "      <td>9,0</td>\n",
       "      <td>1 378 expériences vécues</td>\n",
       "      <td>Bayonne</td>\n",
       "      <td>7 Rue Frédéric Bastiat, 64100 Bayonne, France</td>\n",
       "      <td>43.492371</td>\n",
       "      <td>-1.472588</td>\n",
       "      <td>Doté d’un bar, d’un restaurant, d’une terrasse...</td>\n",
       "      <td>Bayonne</td>\n",
       "      <td>43.494514</td>\n",
       "      <td>-1.473666</td>\n",
       "      <td>13.5</td>\n",
       "      <td>0.0</td>\n",
       "      <td>3</td>\n",
       "      <td>13.7</td>\n",
       "      <td>0.0</td>\n",
       "      <td>2</td>\n",
       "      <td>13.3</td>\n",
       "      <td>0.0</td>\n",
       "      <td>3</td>\n",
       "      <td>14.5</td>\n",
       "      <td>0.0</td>\n",
       "      <td>0</td>\n",
       "      <td>13.3</td>\n",
       "      <td>0.0</td>\n",
       "      <td>0</td>\n",
       "      <td>14.2</td>\n",
       "      <td>0.0</td>\n",
       "      <td>3</td>\n",
       "      <td>15.6</td>\n",
       "      <td>0.0</td>\n",
       "      <td>3</td>\n",
       "      <td>14.014286</td>\n",
       "      <td>0.0</td>\n",
       "      <td>3</td>\n",
       "    </tr>\n",
       "  </tbody>\n",
       "</table>\n",
       "</div>"
      ],
      "text/plain": [
       "  namecity                                name  \\\n",
       "0  Bayonne                Villa la Renaissance   \n",
       "1  Bayonne                   Hotel Cote Basque   \n",
       "2  Bayonne                    Parc 709 Bayonne   \n",
       "3  Bayonne  Maison d'hôtes City Break MIRADOUR   \n",
       "4  Bayonne          Hôtel Villa KOEGUI Bayonne   \n",
       "\n",
       "                                                link review_score  \\\n",
       "0  https://www.booking.com/hotel/fr/villa-la-rena...          9,2   \n",
       "1  https://www.booking.com/hotel/fr/cote-basque.f...          7,8   \n",
       "2  https://www.booking.com/hotel/fr/parc-709-bayo...          9,2   \n",
       "3  https://www.booking.com/hotel/fr/city-break-mi...          8,7   \n",
       "4  https://www.booking.com/hotel/fr/villa-koegui-...          9,0   \n",
       "\n",
       "               review_count     area  \\\n",
       "0    279 expériences vécues  Bayonne   \n",
       "1  3 507 expériences vécues  Bayonne   \n",
       "2    114 expériences vécues  Bayonne   \n",
       "3    411 expériences vécues  Bayonne   \n",
       "4  1 378 expériences vécues  Bayonne   \n",
       "\n",
       "                                         address  hotel_latitude  \\\n",
       "0  12 Chemin de Jacquette, 64100 Bayonne, France       43.482321   \n",
       "1            2 rue Maubec, 64100 Bayonne, France       43.496183   \n",
       "2      6 Boulevard du BAB, 64100 Bayonne, France       43.495606   \n",
       "3        9 Rue des Faures, 64100 Bayonne, France       43.489513   \n",
       "4  7 Rue Frédéric Bastiat, 64100 Bayonne, France       43.492371   \n",
       "\n",
       "   hotel_longitude                                        description  \\\n",
       "0        -1.468164  La Villa la Renaissance propose des chambres à...   \n",
       "1        -1.469601  Vous pouvez bénéficier d'une réduction Genius ...   \n",
       "2        -1.481317  Vous pouvez bénéficier d'une réduction Genius ...   \n",
       "3        -1.479078  La Maison d'hôtes City Break MIRADOUR est situ...   \n",
       "4        -1.472588  Doté d’un bar, d’un restaurant, d’une terrasse...   \n",
       "\n",
       "  cityname   latitude  longitude  temperature_j1  precipitation_j1  \\\n",
       "0  Bayonne  43.494514  -1.473666            13.5               0.0   \n",
       "1  Bayonne  43.494514  -1.473666            13.5               0.0   \n",
       "2  Bayonne  43.494514  -1.473666            13.5               0.0   \n",
       "3  Bayonne  43.494514  -1.473666            13.5               0.0   \n",
       "4  Bayonne  43.494514  -1.473666            13.5               0.0   \n",
       "\n",
       "   weathercode_j1  temperature_j2  precipitation_j2  weathercode_j2  \\\n",
       "0               3            13.7               0.0               2   \n",
       "1               3            13.7               0.0               2   \n",
       "2               3            13.7               0.0               2   \n",
       "3               3            13.7               0.0               2   \n",
       "4               3            13.7               0.0               2   \n",
       "\n",
       "   temperature_j3  precipitation_j3  weathercode_j3  temperature_j4  \\\n",
       "0            13.3               0.0               3            14.5   \n",
       "1            13.3               0.0               3            14.5   \n",
       "2            13.3               0.0               3            14.5   \n",
       "3            13.3               0.0               3            14.5   \n",
       "4            13.3               0.0               3            14.5   \n",
       "\n",
       "   precipitation_j4  weathercode_j4  temperature_j5  precipitation_j5  \\\n",
       "0               0.0               0            13.3               0.0   \n",
       "1               0.0               0            13.3               0.0   \n",
       "2               0.0               0            13.3               0.0   \n",
       "3               0.0               0            13.3               0.0   \n",
       "4               0.0               0            13.3               0.0   \n",
       "\n",
       "   weathercode_j5  temperature_j6  precipitation_j6  weathercode_j6  \\\n",
       "0               0            14.2               0.0               3   \n",
       "1               0            14.2               0.0               3   \n",
       "2               0            14.2               0.0               3   \n",
       "3               0            14.2               0.0               3   \n",
       "4               0            14.2               0.0               3   \n",
       "\n",
       "   temperature_j7  precipitation_j7  weathercode_j7  mean_temp  \\\n",
       "0            15.6               0.0               3  14.014286   \n",
       "1            15.6               0.0               3  14.014286   \n",
       "2            15.6               0.0               3  14.014286   \n",
       "3            15.6               0.0               3  14.014286   \n",
       "4            15.6               0.0               3  14.014286   \n",
       "\n",
       "   sum_precipitation  top_weather_code  \n",
       "0                0.0                 3  \n",
       "1                0.0                 3  \n",
       "2                0.0                 3  \n",
       "3                0.0                 3  \n",
       "4                0.0                 3  "
      ]
     },
     "execution_count": 6,
     "metadata": {},
     "output_type": "execute_result"
    }
   ],
   "source": [
    "best_destinations.head(5)"
   ]
  },
  {
   "attachments": {},
   "cell_type": "markdown",
   "metadata": {},
   "source": [
    "## Visualizing the 5 best destinations"
   ]
  },
  {
   "cell_type": "code",
   "execution_count": 23,
   "metadata": {},
   "outputs": [
    {
     "data": {
      "application/vnd.plotly.v1+json": {
       "config": {
        "plotlyServerURL": "https://plot.ly"
       },
       "data": [
        {
         "hovertemplate": "mean_temp=%{marker.color}<br>latitude=%{lat}<br>longitude=%{lon}<extra></extra>",
         "lat": [
          43.4945144,
          43.4945144,
          43.4945144,
          43.4945144,
          43.4945144,
          43.4945144,
          43.4945144,
          43.4945144,
          43.4945144,
          43.4945144,
          43.4945144,
          43.4945144,
          43.4945144,
          43.4945144,
          43.4945144,
          43.4945144,
          43.4945144,
          43.4945144,
          43.4945144,
          43.4945144,
          43.4945144,
          43.4945144,
          43.4945144,
          43.4945144,
          43.4945144,
          42.52505,
          42.52505,
          42.52505,
          42.52505,
          42.52505,
          42.52505,
          42.52505,
          42.52505,
          42.52505,
          42.52505,
          42.52505,
          42.52505,
          42.52505,
          42.52505,
          42.52505,
          42.52505,
          42.52505,
          42.52505,
          42.52505,
          42.52505,
          42.52505,
          42.52505,
          42.52505,
          42.52505,
          42.52505,
          43.47114375,
          43.47114375,
          43.47114375,
          43.47114375,
          43.47114375,
          43.47114375,
          43.47114375,
          43.47114375,
          43.47114375,
          43.47114375,
          43.47114375,
          43.47114375,
          43.47114375,
          43.47114375,
          43.47114375,
          43.47114375,
          43.47114375,
          43.47114375,
          43.47114375,
          43.47114375,
          43.47114375,
          43.47114375,
          43.47114375,
          43.47114375,
          43.47114375,
          43.1506968,
          43.1506968,
          43.1506968,
          43.1506968,
          43.1506968,
          43.1506968,
          43.1506968,
          43.1506968,
          43.1506968,
          43.1506968,
          43.1506968,
          43.1506968,
          43.1506968,
          43.1506968,
          43.1506968,
          43.1506968,
          43.1506968,
          43.1506968,
          43.1506968,
          43.1506968,
          43.1506968,
          43.1506968,
          43.1506968,
          43.1506968,
          43.1506968,
          42.9455368,
          42.9455368,
          42.9455368,
          42.9455368,
          42.9455368,
          42.9455368,
          42.9455368,
          42.9455368,
          42.9455368,
          42.9455368,
          42.9455368,
          42.9455368,
          42.9455368,
          42.9455368,
          42.9455368,
          42.9455368,
          42.9455368,
          42.9455368,
          42.9455368,
          42.9455368,
          42.9455368,
          42.9455368,
          42.9455368,
          42.9455368,
          42.9455368
         ],
         "legendgroup": "",
         "lon": [
          -1.4736657,
          -1.4736657,
          -1.4736657,
          -1.4736657,
          -1.4736657,
          -1.4736657,
          -1.4736657,
          -1.4736657,
          -1.4736657,
          -1.4736657,
          -1.4736657,
          -1.4736657,
          -1.4736657,
          -1.4736657,
          -1.4736657,
          -1.4736657,
          -1.4736657,
          -1.4736657,
          -1.4736657,
          -1.4736657,
          -1.4736657,
          -1.4736657,
          -1.4736657,
          -1.4736657,
          -1.4736657,
          3.0831554,
          3.0831554,
          3.0831554,
          3.0831554,
          3.0831554,
          3.0831554,
          3.0831554,
          3.0831554,
          3.0831554,
          3.0831554,
          3.0831554,
          3.0831554,
          3.0831554,
          3.0831554,
          3.0831554,
          3.0831554,
          3.0831554,
          3.0831554,
          3.0831554,
          3.0831554,
          3.0831554,
          3.0831554,
          3.0831554,
          3.0831554,
          3.0831554,
          -1.552726590666314,
          -1.552726590666314,
          -1.552726590666314,
          -1.552726590666314,
          -1.552726590666314,
          -1.552726590666314,
          -1.552726590666314,
          -1.552726590666314,
          -1.552726590666314,
          -1.552726590666314,
          -1.552726590666314,
          -1.552726590666314,
          -1.552726590666314,
          -1.552726590666314,
          -1.552726590666314,
          -1.552726590666314,
          -1.552726590666314,
          -1.552726590666314,
          -1.552726590666314,
          -1.552726590666314,
          -1.552726590666314,
          -1.552726590666314,
          -1.552726590666314,
          -1.552726590666314,
          -1.552726590666314,
          6.3419285,
          6.3419285,
          6.3419285,
          6.3419285,
          6.3419285,
          6.3419285,
          6.3419285,
          6.3419285,
          6.3419285,
          6.3419285,
          6.3419285,
          6.3419285,
          6.3419285,
          6.3419285,
          6.3419285,
          6.3419285,
          6.3419285,
          6.3419285,
          6.3419285,
          6.3419285,
          6.3419285,
          6.3419285,
          6.3419285,
          6.3419285,
          6.3419285,
          1.4065544156065486,
          1.4065544156065486,
          1.4065544156065486,
          1.4065544156065486,
          1.4065544156065486,
          1.4065544156065486,
          1.4065544156065486,
          1.4065544156065486,
          1.4065544156065486,
          1.4065544156065486,
          1.4065544156065486,
          1.4065544156065486,
          1.4065544156065486,
          1.4065544156065486,
          1.4065544156065486,
          1.4065544156065486,
          1.4065544156065486,
          1.4065544156065486,
          1.4065544156065486,
          1.4065544156065486,
          1.4065544156065486,
          1.4065544156065486,
          1.4065544156065486,
          1.4065544156065486,
          1.4065544156065486
         ],
         "marker": {
          "color": [
           14.014285714285714,
           14.014285714285714,
           14.014285714285714,
           14.014285714285714,
           14.014285714285714,
           14.014285714285714,
           14.014285714285714,
           14.014285714285714,
           14.014285714285714,
           14.014285714285714,
           14.014285714285714,
           14.014285714285714,
           14.014285714285714,
           14.014285714285714,
           14.014285714285714,
           14.014285714285714,
           14.014285714285714,
           14.014285714285714,
           14.014285714285714,
           14.014285714285714,
           14.014285714285714,
           14.014285714285714,
           14.014285714285714,
           14.014285714285714,
           14.014285714285714,
           13.94285714285714,
           13.94285714285714,
           13.94285714285714,
           13.94285714285714,
           13.94285714285714,
           13.94285714285714,
           13.94285714285714,
           13.94285714285714,
           13.94285714285714,
           13.94285714285714,
           13.94285714285714,
           13.94285714285714,
           13.94285714285714,
           13.94285714285714,
           13.94285714285714,
           13.94285714285714,
           13.94285714285714,
           13.94285714285714,
           13.94285714285714,
           13.94285714285714,
           13.94285714285714,
           13.94285714285714,
           13.94285714285714,
           13.94285714285714,
           13.94285714285714,
           13.614285714285716,
           13.614285714285716,
           13.614285714285716,
           13.614285714285716,
           13.614285714285716,
           13.614285714285716,
           13.614285714285716,
           13.614285714285716,
           13.614285714285716,
           13.614285714285716,
           13.614285714285716,
           13.614285714285716,
           13.614285714285716,
           13.614285714285716,
           13.614285714285716,
           13.614285714285716,
           13.614285714285716,
           13.614285714285716,
           13.614285714285716,
           13.614285714285716,
           13.614285714285716,
           13.614285714285716,
           13.614285714285716,
           13.614285714285716,
           13.614285714285716,
           13.528571428571428,
           13.528571428571428,
           13.528571428571428,
           13.528571428571428,
           13.528571428571428,
           13.528571428571428,
           13.528571428571428,
           13.528571428571428,
           13.528571428571428,
           13.528571428571428,
           13.528571428571428,
           13.528571428571428,
           13.528571428571428,
           13.528571428571428,
           13.528571428571428,
           13.528571428571428,
           13.528571428571428,
           13.528571428571428,
           13.528571428571428,
           13.528571428571428,
           13.528571428571428,
           13.528571428571428,
           13.528571428571428,
           13.528571428571428,
           13.528571428571428,
           7.728571428571428,
           7.728571428571428,
           7.728571428571428,
           7.728571428571428,
           7.728571428571428,
           7.728571428571428,
           7.728571428571428,
           7.728571428571428,
           7.728571428571428,
           7.728571428571428,
           7.728571428571428,
           7.728571428571428,
           7.728571428571428,
           7.728571428571428,
           7.728571428571428,
           7.728571428571428,
           7.728571428571428,
           7.728571428571428,
           7.728571428571428,
           7.728571428571428,
           7.728571428571428,
           7.728571428571428,
           7.728571428571428,
           7.728571428571428,
           7.728571428571428
          ],
          "coloraxis": "coloraxis",
          "size": [
           14.014285714285714,
           14.014285714285714,
           14.014285714285714,
           14.014285714285714,
           14.014285714285714,
           14.014285714285714,
           14.014285714285714,
           14.014285714285714,
           14.014285714285714,
           14.014285714285714,
           14.014285714285714,
           14.014285714285714,
           14.014285714285714,
           14.014285714285714,
           14.014285714285714,
           14.014285714285714,
           14.014285714285714,
           14.014285714285714,
           14.014285714285714,
           14.014285714285714,
           14.014285714285714,
           14.014285714285714,
           14.014285714285714,
           14.014285714285714,
           14.014285714285714,
           13.94285714285714,
           13.94285714285714,
           13.94285714285714,
           13.94285714285714,
           13.94285714285714,
           13.94285714285714,
           13.94285714285714,
           13.94285714285714,
           13.94285714285714,
           13.94285714285714,
           13.94285714285714,
           13.94285714285714,
           13.94285714285714,
           13.94285714285714,
           13.94285714285714,
           13.94285714285714,
           13.94285714285714,
           13.94285714285714,
           13.94285714285714,
           13.94285714285714,
           13.94285714285714,
           13.94285714285714,
           13.94285714285714,
           13.94285714285714,
           13.94285714285714,
           13.614285714285716,
           13.614285714285716,
           13.614285714285716,
           13.614285714285716,
           13.614285714285716,
           13.614285714285716,
           13.614285714285716,
           13.614285714285716,
           13.614285714285716,
           13.614285714285716,
           13.614285714285716,
           13.614285714285716,
           13.614285714285716,
           13.614285714285716,
           13.614285714285716,
           13.614285714285716,
           13.614285714285716,
           13.614285714285716,
           13.614285714285716,
           13.614285714285716,
           13.614285714285716,
           13.614285714285716,
           13.614285714285716,
           13.614285714285716,
           13.614285714285716,
           13.528571428571428,
           13.528571428571428,
           13.528571428571428,
           13.528571428571428,
           13.528571428571428,
           13.528571428571428,
           13.528571428571428,
           13.528571428571428,
           13.528571428571428,
           13.528571428571428,
           13.528571428571428,
           13.528571428571428,
           13.528571428571428,
           13.528571428571428,
           13.528571428571428,
           13.528571428571428,
           13.528571428571428,
           13.528571428571428,
           13.528571428571428,
           13.528571428571428,
           13.528571428571428,
           13.528571428571428,
           13.528571428571428,
           13.528571428571428,
           13.528571428571428,
           7.728571428571428,
           7.728571428571428,
           7.728571428571428,
           7.728571428571428,
           7.728571428571428,
           7.728571428571428,
           7.728571428571428,
           7.728571428571428,
           7.728571428571428,
           7.728571428571428,
           7.728571428571428,
           7.728571428571428,
           7.728571428571428,
           7.728571428571428,
           7.728571428571428,
           7.728571428571428,
           7.728571428571428,
           7.728571428571428,
           7.728571428571428,
           7.728571428571428,
           7.728571428571428,
           7.728571428571428,
           7.728571428571428,
           7.728571428571428,
           7.728571428571428
          ],
          "sizemode": "area",
          "sizeref": 0.03503571428571429
         },
         "mode": "markers",
         "name": "",
         "showlegend": false,
         "subplot": "mapbox",
         "type": "scattermapbox"
        }
       ],
       "layout": {
        "coloraxis": {
         "colorbar": {
          "title": {
           "text": "mean_temp"
          }
         },
         "colorscale": [
          [
           0,
           "rgb(0,0,255)"
          ],
          [
           1,
           "rgb(255,0,0)"
          ]
         ]
        },
        "height": 750,
        "legend": {
         "itemsizing": "constant",
         "tracegroupgap": 0
        },
        "mapbox": {
         "center": {
          "lat": 43.11738834999999,
          "lon": 1.5610492049880467
         },
         "domain": {
          "x": [
           0,
           1
          ],
          "y": [
           0,
           1
          ]
         },
         "style": "open-street-map",
         "zoom": 5
        },
        "template": {
         "data": {
          "bar": [
           {
            "error_x": {
             "color": "#2a3f5f"
            },
            "error_y": {
             "color": "#2a3f5f"
            },
            "marker": {
             "line": {
              "color": "#E5ECF6",
              "width": 0.5
             },
             "pattern": {
              "fillmode": "overlay",
              "size": 10,
              "solidity": 0.2
             }
            },
            "type": "bar"
           }
          ],
          "barpolar": [
           {
            "marker": {
             "line": {
              "color": "#E5ECF6",
              "width": 0.5
             },
             "pattern": {
              "fillmode": "overlay",
              "size": 10,
              "solidity": 0.2
             }
            },
            "type": "barpolar"
           }
          ],
          "carpet": [
           {
            "aaxis": {
             "endlinecolor": "#2a3f5f",
             "gridcolor": "white",
             "linecolor": "white",
             "minorgridcolor": "white",
             "startlinecolor": "#2a3f5f"
            },
            "baxis": {
             "endlinecolor": "#2a3f5f",
             "gridcolor": "white",
             "linecolor": "white",
             "minorgridcolor": "white",
             "startlinecolor": "#2a3f5f"
            },
            "type": "carpet"
           }
          ],
          "choropleth": [
           {
            "colorbar": {
             "outlinewidth": 0,
             "ticks": ""
            },
            "type": "choropleth"
           }
          ],
          "contour": [
           {
            "colorbar": {
             "outlinewidth": 0,
             "ticks": ""
            },
            "colorscale": [
             [
              0,
              "#0d0887"
             ],
             [
              0.1111111111111111,
              "#46039f"
             ],
             [
              0.2222222222222222,
              "#7201a8"
             ],
             [
              0.3333333333333333,
              "#9c179e"
             ],
             [
              0.4444444444444444,
              "#bd3786"
             ],
             [
              0.5555555555555556,
              "#d8576b"
             ],
             [
              0.6666666666666666,
              "#ed7953"
             ],
             [
              0.7777777777777778,
              "#fb9f3a"
             ],
             [
              0.8888888888888888,
              "#fdca26"
             ],
             [
              1,
              "#f0f921"
             ]
            ],
            "type": "contour"
           }
          ],
          "contourcarpet": [
           {
            "colorbar": {
             "outlinewidth": 0,
             "ticks": ""
            },
            "type": "contourcarpet"
           }
          ],
          "heatmap": [
           {
            "colorbar": {
             "outlinewidth": 0,
             "ticks": ""
            },
            "colorscale": [
             [
              0,
              "#0d0887"
             ],
             [
              0.1111111111111111,
              "#46039f"
             ],
             [
              0.2222222222222222,
              "#7201a8"
             ],
             [
              0.3333333333333333,
              "#9c179e"
             ],
             [
              0.4444444444444444,
              "#bd3786"
             ],
             [
              0.5555555555555556,
              "#d8576b"
             ],
             [
              0.6666666666666666,
              "#ed7953"
             ],
             [
              0.7777777777777778,
              "#fb9f3a"
             ],
             [
              0.8888888888888888,
              "#fdca26"
             ],
             [
              1,
              "#f0f921"
             ]
            ],
            "type": "heatmap"
           }
          ],
          "heatmapgl": [
           {
            "colorbar": {
             "outlinewidth": 0,
             "ticks": ""
            },
            "colorscale": [
             [
              0,
              "#0d0887"
             ],
             [
              0.1111111111111111,
              "#46039f"
             ],
             [
              0.2222222222222222,
              "#7201a8"
             ],
             [
              0.3333333333333333,
              "#9c179e"
             ],
             [
              0.4444444444444444,
              "#bd3786"
             ],
             [
              0.5555555555555556,
              "#d8576b"
             ],
             [
              0.6666666666666666,
              "#ed7953"
             ],
             [
              0.7777777777777778,
              "#fb9f3a"
             ],
             [
              0.8888888888888888,
              "#fdca26"
             ],
             [
              1,
              "#f0f921"
             ]
            ],
            "type": "heatmapgl"
           }
          ],
          "histogram": [
           {
            "marker": {
             "pattern": {
              "fillmode": "overlay",
              "size": 10,
              "solidity": 0.2
             }
            },
            "type": "histogram"
           }
          ],
          "histogram2d": [
           {
            "colorbar": {
             "outlinewidth": 0,
             "ticks": ""
            },
            "colorscale": [
             [
              0,
              "#0d0887"
             ],
             [
              0.1111111111111111,
              "#46039f"
             ],
             [
              0.2222222222222222,
              "#7201a8"
             ],
             [
              0.3333333333333333,
              "#9c179e"
             ],
             [
              0.4444444444444444,
              "#bd3786"
             ],
             [
              0.5555555555555556,
              "#d8576b"
             ],
             [
              0.6666666666666666,
              "#ed7953"
             ],
             [
              0.7777777777777778,
              "#fb9f3a"
             ],
             [
              0.8888888888888888,
              "#fdca26"
             ],
             [
              1,
              "#f0f921"
             ]
            ],
            "type": "histogram2d"
           }
          ],
          "histogram2dcontour": [
           {
            "colorbar": {
             "outlinewidth": 0,
             "ticks": ""
            },
            "colorscale": [
             [
              0,
              "#0d0887"
             ],
             [
              0.1111111111111111,
              "#46039f"
             ],
             [
              0.2222222222222222,
              "#7201a8"
             ],
             [
              0.3333333333333333,
              "#9c179e"
             ],
             [
              0.4444444444444444,
              "#bd3786"
             ],
             [
              0.5555555555555556,
              "#d8576b"
             ],
             [
              0.6666666666666666,
              "#ed7953"
             ],
             [
              0.7777777777777778,
              "#fb9f3a"
             ],
             [
              0.8888888888888888,
              "#fdca26"
             ],
             [
              1,
              "#f0f921"
             ]
            ],
            "type": "histogram2dcontour"
           }
          ],
          "mesh3d": [
           {
            "colorbar": {
             "outlinewidth": 0,
             "ticks": ""
            },
            "type": "mesh3d"
           }
          ],
          "parcoords": [
           {
            "line": {
             "colorbar": {
              "outlinewidth": 0,
              "ticks": ""
             }
            },
            "type": "parcoords"
           }
          ],
          "pie": [
           {
            "automargin": true,
            "type": "pie"
           }
          ],
          "scatter": [
           {
            "fillpattern": {
             "fillmode": "overlay",
             "size": 10,
             "solidity": 0.2
            },
            "type": "scatter"
           }
          ],
          "scatter3d": [
           {
            "line": {
             "colorbar": {
              "outlinewidth": 0,
              "ticks": ""
             }
            },
            "marker": {
             "colorbar": {
              "outlinewidth": 0,
              "ticks": ""
             }
            },
            "type": "scatter3d"
           }
          ],
          "scattercarpet": [
           {
            "marker": {
             "colorbar": {
              "outlinewidth": 0,
              "ticks": ""
             }
            },
            "type": "scattercarpet"
           }
          ],
          "scattergeo": [
           {
            "marker": {
             "colorbar": {
              "outlinewidth": 0,
              "ticks": ""
             }
            },
            "type": "scattergeo"
           }
          ],
          "scattergl": [
           {
            "marker": {
             "colorbar": {
              "outlinewidth": 0,
              "ticks": ""
             }
            },
            "type": "scattergl"
           }
          ],
          "scattermapbox": [
           {
            "marker": {
             "colorbar": {
              "outlinewidth": 0,
              "ticks": ""
             }
            },
            "type": "scattermapbox"
           }
          ],
          "scatterpolar": [
           {
            "marker": {
             "colorbar": {
              "outlinewidth": 0,
              "ticks": ""
             }
            },
            "type": "scatterpolar"
           }
          ],
          "scatterpolargl": [
           {
            "marker": {
             "colorbar": {
              "outlinewidth": 0,
              "ticks": ""
             }
            },
            "type": "scatterpolargl"
           }
          ],
          "scatterternary": [
           {
            "marker": {
             "colorbar": {
              "outlinewidth": 0,
              "ticks": ""
             }
            },
            "type": "scatterternary"
           }
          ],
          "surface": [
           {
            "colorbar": {
             "outlinewidth": 0,
             "ticks": ""
            },
            "colorscale": [
             [
              0,
              "#0d0887"
             ],
             [
              0.1111111111111111,
              "#46039f"
             ],
             [
              0.2222222222222222,
              "#7201a8"
             ],
             [
              0.3333333333333333,
              "#9c179e"
             ],
             [
              0.4444444444444444,
              "#bd3786"
             ],
             [
              0.5555555555555556,
              "#d8576b"
             ],
             [
              0.6666666666666666,
              "#ed7953"
             ],
             [
              0.7777777777777778,
              "#fb9f3a"
             ],
             [
              0.8888888888888888,
              "#fdca26"
             ],
             [
              1,
              "#f0f921"
             ]
            ],
            "type": "surface"
           }
          ],
          "table": [
           {
            "cells": {
             "fill": {
              "color": "#EBF0F8"
             },
             "line": {
              "color": "white"
             }
            },
            "header": {
             "fill": {
              "color": "#C8D4E3"
             },
             "line": {
              "color": "white"
             }
            },
            "type": "table"
           }
          ]
         },
         "layout": {
          "annotationdefaults": {
           "arrowcolor": "#2a3f5f",
           "arrowhead": 0,
           "arrowwidth": 1
          },
          "autotypenumbers": "strict",
          "coloraxis": {
           "colorbar": {
            "outlinewidth": 0,
            "ticks": ""
           }
          },
          "colorscale": {
           "diverging": [
            [
             0,
             "#8e0152"
            ],
            [
             0.1,
             "#c51b7d"
            ],
            [
             0.2,
             "#de77ae"
            ],
            [
             0.3,
             "#f1b6da"
            ],
            [
             0.4,
             "#fde0ef"
            ],
            [
             0.5,
             "#f7f7f7"
            ],
            [
             0.6,
             "#e6f5d0"
            ],
            [
             0.7,
             "#b8e186"
            ],
            [
             0.8,
             "#7fbc41"
            ],
            [
             0.9,
             "#4d9221"
            ],
            [
             1,
             "#276419"
            ]
           ],
           "sequential": [
            [
             0,
             "#0d0887"
            ],
            [
             0.1111111111111111,
             "#46039f"
            ],
            [
             0.2222222222222222,
             "#7201a8"
            ],
            [
             0.3333333333333333,
             "#9c179e"
            ],
            [
             0.4444444444444444,
             "#bd3786"
            ],
            [
             0.5555555555555556,
             "#d8576b"
            ],
            [
             0.6666666666666666,
             "#ed7953"
            ],
            [
             0.7777777777777778,
             "#fb9f3a"
            ],
            [
             0.8888888888888888,
             "#fdca26"
            ],
            [
             1,
             "#f0f921"
            ]
           ],
           "sequentialminus": [
            [
             0,
             "#0d0887"
            ],
            [
             0.1111111111111111,
             "#46039f"
            ],
            [
             0.2222222222222222,
             "#7201a8"
            ],
            [
             0.3333333333333333,
             "#9c179e"
            ],
            [
             0.4444444444444444,
             "#bd3786"
            ],
            [
             0.5555555555555556,
             "#d8576b"
            ],
            [
             0.6666666666666666,
             "#ed7953"
            ],
            [
             0.7777777777777778,
             "#fb9f3a"
            ],
            [
             0.8888888888888888,
             "#fdca26"
            ],
            [
             1,
             "#f0f921"
            ]
           ]
          },
          "colorway": [
           "#636efa",
           "#EF553B",
           "#00cc96",
           "#ab63fa",
           "#FFA15A",
           "#19d3f3",
           "#FF6692",
           "#B6E880",
           "#FF97FF",
           "#FECB52"
          ],
          "font": {
           "color": "#2a3f5f"
          },
          "geo": {
           "bgcolor": "white",
           "lakecolor": "white",
           "landcolor": "#E5ECF6",
           "showlakes": true,
           "showland": true,
           "subunitcolor": "white"
          },
          "hoverlabel": {
           "align": "left"
          },
          "hovermode": "closest",
          "mapbox": {
           "style": "light"
          },
          "paper_bgcolor": "white",
          "plot_bgcolor": "#E5ECF6",
          "polar": {
           "angularaxis": {
            "gridcolor": "white",
            "linecolor": "white",
            "ticks": ""
           },
           "bgcolor": "#E5ECF6",
           "radialaxis": {
            "gridcolor": "white",
            "linecolor": "white",
            "ticks": ""
           }
          },
          "scene": {
           "xaxis": {
            "backgroundcolor": "#E5ECF6",
            "gridcolor": "white",
            "gridwidth": 2,
            "linecolor": "white",
            "showbackground": true,
            "ticks": "",
            "zerolinecolor": "white"
           },
           "yaxis": {
            "backgroundcolor": "#E5ECF6",
            "gridcolor": "white",
            "gridwidth": 2,
            "linecolor": "white",
            "showbackground": true,
            "ticks": "",
            "zerolinecolor": "white"
           },
           "zaxis": {
            "backgroundcolor": "#E5ECF6",
            "gridcolor": "white",
            "gridwidth": 2,
            "linecolor": "white",
            "showbackground": true,
            "ticks": "",
            "zerolinecolor": "white"
           }
          },
          "shapedefaults": {
           "line": {
            "color": "#2a3f5f"
           }
          },
          "ternary": {
           "aaxis": {
            "gridcolor": "white",
            "linecolor": "white",
            "ticks": ""
           },
           "baxis": {
            "gridcolor": "white",
            "linecolor": "white",
            "ticks": ""
           },
           "bgcolor": "#E5ECF6",
           "caxis": {
            "gridcolor": "white",
            "linecolor": "white",
            "ticks": ""
           }
          },
          "title": {
           "x": 0.05
          },
          "xaxis": {
           "automargin": true,
           "gridcolor": "white",
           "linecolor": "white",
           "ticks": "",
           "title": {
            "standoff": 15
           },
           "zerolinecolor": "white",
           "zerolinewidth": 2
          },
          "yaxis": {
           "automargin": true,
           "gridcolor": "white",
           "linecolor": "white",
           "ticks": "",
           "title": {
            "standoff": 15
           },
           "zerolinecolor": "white",
           "zerolinewidth": 2
          }
         }
        },
        "title": {
         "text": "5 Best City to go regarding the weather criteriums"
        },
        "width": 1250
       }
      }
     },
     "metadata": {},
     "output_type": "display_data"
    }
   ],
   "source": [
    "fig = px.scatter_mapbox(best_destinations, \n",
    "                        lat=best_destinations['latitude'],\n",
    "                        lon=best_destinations['longitude'],\n",
    "                        zoom= 5,\n",
    "                        color=best_destinations['mean_temp'],\n",
    "                        color_continuous_scale='BlueRed',\n",
    "                        mapbox_style='open-street-map',\n",
    "                        width=1250,\n",
    "                        height=750,\n",
    "                        size=best_destinations['mean_temp'],\n",
    "                        title='5 Best City to go regarding the weather criteriums'\n",
    "\n",
    "                        )   \n",
    "fig.show()"
   ]
  },
  {
   "attachments": {},
   "cell_type": "markdown",
   "metadata": {},
   "source": [
    "## Visualizing the HOTELS localisations regarding these 5 best destinations"
   ]
  },
  {
   "cell_type": "code",
   "execution_count": 17,
   "metadata": {},
   "outputs": [
    {
     "data": {
      "application/vnd.plotly.v1+json": {
       "config": {
        "plotlyServerURL": "https://plot.ly"
       },
       "data": [
        {
         "hovertemplate": "mean_temp=%{marker.size}<br>hotel_latitude=%{lat}<br>hotel_longitude=%{lon}<extra></extra>",
         "lat": [
          43.482321,
          43.49618306,
          43.495606,
          43.489513,
          43.492371,
          43.4894916,
          43.49349109,
          43.4909225,
          43.4888387,
          43.49535,
          43.50579423,
          43.48908262,
          43.4891491,
          43.496335,
          43.46494896,
          43.4890699,
          43.4898477,
          43.4850262,
          43.489894,
          43.5068407,
          43.4952,
          43.50708131,
          43.48954193,
          43.4925466,
          43.49405931,
          42.52730095,
          42.52534777,
          42.52638625,
          42.52538159,
          42.52434874,
          42.52439,
          42.52311754,
          42.52708254,
          42.5238821,
          42.52876467,
          42.526852,
          42.5224086,
          42.52591431,
          42.52547153,
          42.52488242,
          42.5233997,
          42.52298768,
          42.52182,
          42.52851789,
          42.52615566,
          42.52507267,
          42.527415,
          42.52404982,
          42.5211169,
          42.523431,
          43.48447351,
          43.4765027,
          43.47853954,
          43.48230843,
          43.48013354,
          43.48213327,
          43.482179,
          43.47827192,
          43.48040601,
          43.4722079,
          43.48205056,
          43.4835903,
          43.46218084,
          43.4826292,
          43.479357,
          43.47920322,
          43.463022,
          43.48214495,
          43.482489,
          43.46889876,
          43.4821737,
          43.46963652,
          43.4753676,
          43.4682329,
          43.48131684,
          43.12602594,
          43.142501,
          43.151608,
          43.12264843,
          43.146445,
          43.1403633,
          43.144686,
          43.1238127,
          43.12212055,
          43.14923281,
          43.15036057,
          43.12559147,
          43.15127099,
          43.12844917,
          43.12279851,
          43.123184,
          43.12257018,
          43.12549,
          43.1519579,
          43.12415,
          43.10442849,
          43.12259493,
          43.12287159,
          43.14893354,
          43.152872,
          42.93227802,
          42.71847547,
          42.70237131,
          42.7855571,
          42.71383156,
          42.58990385,
          42.9921119,
          42.71962529,
          42.83202716,
          43.25701228,
          42.9359233,
          42.7206885,
          42.72477458,
          42.72079212,
          42.71940787,
          42.894548,
          42.713783,
          42.75908362,
          42.79060996,
          42.71931396,
          43.0344956,
          42.8471852,
          42.72214291,
          42.720477,
          42.71865184
         ],
         "legendgroup": "",
         "lon": [
          -1.468164,
          -1.46960109,
          -1.481317,
          -1.479078,
          -1.472588,
          -1.4740525,
          -1.45263344,
          -1.4774412,
          -1.477028,
          -1.468753,
          -1.45608832,
          -1.45717809,
          -1.4893667,
          -1.473749,
          -1.49584383,
          -1.4755226,
          -1.4718019,
          -1.47537053,
          -1.473892,
          -1.4800054,
          -1.469412,
          -1.47534745,
          -1.47812448,
          -1.4751766,
          -1.4682464,
          3.08423268,
          3.09032446,
          3.08325659,
          3.08256391,
          3.09014887,
          3.082726,
          3.0854253,
          3.08026291,
          3.0844023,
          3.07865426,
          3.076323,
          3.0869409,
          3.0826816,
          3.0826987,
          3.08187893,
          3.0850455,
          3.08732966,
          3.0773047,
          3.07862499,
          3.08223283,
          3.09015687,
          3.085054,
          3.09655284,
          3.07730913,
          3.097688,
          -1.55694455,
          -1.56245649,
          -1.5553996,
          -1.56681105,
          -1.56076133,
          -1.56753056,
          -1.56183958,
          -1.56469077,
          -1.55796111,
          -1.53489947,
          -1.56574488,
          -1.5561522,
          -1.55973185,
          -1.560718,
          -1.562543,
          -1.56221509,
          -1.572682,
          -1.56628937,
          -1.5614355,
          -1.5685612,
          -1.5541904,
          -1.56949058,
          -1.5639402,
          -1.5658721,
          -1.56286418,
          6.35675467,
          6.3491788,
          6.3411234,
          6.35946596,
          6.327724,
          6.3367149,
          6.335125,
          6.3581327,
          6.36269069,
          6.34197015,
          6.34262603,
          6.35555415,
          6.34190677,
          6.35472683,
          6.35804877,
          6.354464,
          6.35774943,
          6.3573,
          6.3432835,
          6.351192,
          6.32984154,
          6.35565709,
          6.35743471,
          6.30326629,
          6.342654,
          1.63516787,
          1.84064515,
          1.81530745,
          1.68166541,
          1.83920681,
          1.79836833,
          1.61583245,
          1.83817893,
          1.19836539,
          1.666435,
          1.57316923,
          1.8381711,
          1.45421439,
          1.83754871,
          1.83907012,
          1.634179,
          1.839269,
          1.76367215,
          1.33446872,
          1.83852285,
          1.0572396,
          1.60675853,
          1.8330088,
          1.8376473,
          1.8366158
         ],
         "marker": {
          "color": "#636efa",
          "size": [
           14.014285714285714,
           14.014285714285714,
           14.014285714285714,
           14.014285714285714,
           14.014285714285714,
           14.014285714285714,
           14.014285714285714,
           14.014285714285714,
           14.014285714285714,
           14.014285714285714,
           14.014285714285714,
           14.014285714285714,
           14.014285714285714,
           14.014285714285714,
           14.014285714285714,
           14.014285714285714,
           14.014285714285714,
           14.014285714285714,
           14.014285714285714,
           14.014285714285714,
           14.014285714285714,
           14.014285714285714,
           14.014285714285714,
           14.014285714285714,
           14.014285714285714,
           13.94285714285714,
           13.94285714285714,
           13.94285714285714,
           13.94285714285714,
           13.94285714285714,
           13.94285714285714,
           13.94285714285714,
           13.94285714285714,
           13.94285714285714,
           13.94285714285714,
           13.94285714285714,
           13.94285714285714,
           13.94285714285714,
           13.94285714285714,
           13.94285714285714,
           13.94285714285714,
           13.94285714285714,
           13.94285714285714,
           13.94285714285714,
           13.94285714285714,
           13.94285714285714,
           13.94285714285714,
           13.94285714285714,
           13.94285714285714,
           13.94285714285714,
           13.614285714285716,
           13.614285714285716,
           13.614285714285716,
           13.614285714285716,
           13.614285714285716,
           13.614285714285716,
           13.614285714285716,
           13.614285714285716,
           13.614285714285716,
           13.614285714285716,
           13.614285714285716,
           13.614285714285716,
           13.614285714285716,
           13.614285714285716,
           13.614285714285716,
           13.614285714285716,
           13.614285714285716,
           13.614285714285716,
           13.614285714285716,
           13.614285714285716,
           13.614285714285716,
           13.614285714285716,
           13.614285714285716,
           13.614285714285716,
           13.614285714285716,
           13.528571428571428,
           13.528571428571428,
           13.528571428571428,
           13.528571428571428,
           13.528571428571428,
           13.528571428571428,
           13.528571428571428,
           13.528571428571428,
           13.528571428571428,
           13.528571428571428,
           13.528571428571428,
           13.528571428571428,
           13.528571428571428,
           13.528571428571428,
           13.528571428571428,
           13.528571428571428,
           13.528571428571428,
           13.528571428571428,
           13.528571428571428,
           13.528571428571428,
           13.528571428571428,
           13.528571428571428,
           13.528571428571428,
           13.528571428571428,
           13.528571428571428,
           7.728571428571428,
           7.728571428571428,
           7.728571428571428,
           7.728571428571428,
           7.728571428571428,
           7.728571428571428,
           7.728571428571428,
           7.728571428571428,
           7.728571428571428,
           7.728571428571428,
           7.728571428571428,
           7.728571428571428,
           7.728571428571428,
           7.728571428571428,
           7.728571428571428,
           7.728571428571428,
           7.728571428571428,
           7.728571428571428,
           7.728571428571428,
           7.728571428571428,
           7.728571428571428,
           7.728571428571428,
           7.728571428571428,
           7.728571428571428,
           7.728571428571428
          ],
          "sizemode": "area",
          "sizeref": 0.03503571428571429
         },
         "mode": "markers",
         "name": "",
         "showlegend": false,
         "subplot": "mapbox",
         "type": "scattermapbox"
        }
       ],
       "layout": {
        "height": 750,
        "legend": {
         "itemsizing": "constant",
         "tracegroupgap": 0
        },
        "mapbox": {
         "center": {
          "lat": 43.08556392416,
          "lon": 1.6156770064800001
         },
         "domain": {
          "x": [
           0,
           1
          ],
          "y": [
           0,
           1
          ]
         },
         "style": "open-street-map",
         "zoom": 5
        },
        "template": {
         "data": {
          "bar": [
           {
            "error_x": {
             "color": "#2a3f5f"
            },
            "error_y": {
             "color": "#2a3f5f"
            },
            "marker": {
             "line": {
              "color": "#E5ECF6",
              "width": 0.5
             },
             "pattern": {
              "fillmode": "overlay",
              "size": 10,
              "solidity": 0.2
             }
            },
            "type": "bar"
           }
          ],
          "barpolar": [
           {
            "marker": {
             "line": {
              "color": "#E5ECF6",
              "width": 0.5
             },
             "pattern": {
              "fillmode": "overlay",
              "size": 10,
              "solidity": 0.2
             }
            },
            "type": "barpolar"
           }
          ],
          "carpet": [
           {
            "aaxis": {
             "endlinecolor": "#2a3f5f",
             "gridcolor": "white",
             "linecolor": "white",
             "minorgridcolor": "white",
             "startlinecolor": "#2a3f5f"
            },
            "baxis": {
             "endlinecolor": "#2a3f5f",
             "gridcolor": "white",
             "linecolor": "white",
             "minorgridcolor": "white",
             "startlinecolor": "#2a3f5f"
            },
            "type": "carpet"
           }
          ],
          "choropleth": [
           {
            "colorbar": {
             "outlinewidth": 0,
             "ticks": ""
            },
            "type": "choropleth"
           }
          ],
          "contour": [
           {
            "colorbar": {
             "outlinewidth": 0,
             "ticks": ""
            },
            "colorscale": [
             [
              0,
              "#0d0887"
             ],
             [
              0.1111111111111111,
              "#46039f"
             ],
             [
              0.2222222222222222,
              "#7201a8"
             ],
             [
              0.3333333333333333,
              "#9c179e"
             ],
             [
              0.4444444444444444,
              "#bd3786"
             ],
             [
              0.5555555555555556,
              "#d8576b"
             ],
             [
              0.6666666666666666,
              "#ed7953"
             ],
             [
              0.7777777777777778,
              "#fb9f3a"
             ],
             [
              0.8888888888888888,
              "#fdca26"
             ],
             [
              1,
              "#f0f921"
             ]
            ],
            "type": "contour"
           }
          ],
          "contourcarpet": [
           {
            "colorbar": {
             "outlinewidth": 0,
             "ticks": ""
            },
            "type": "contourcarpet"
           }
          ],
          "heatmap": [
           {
            "colorbar": {
             "outlinewidth": 0,
             "ticks": ""
            },
            "colorscale": [
             [
              0,
              "#0d0887"
             ],
             [
              0.1111111111111111,
              "#46039f"
             ],
             [
              0.2222222222222222,
              "#7201a8"
             ],
             [
              0.3333333333333333,
              "#9c179e"
             ],
             [
              0.4444444444444444,
              "#bd3786"
             ],
             [
              0.5555555555555556,
              "#d8576b"
             ],
             [
              0.6666666666666666,
              "#ed7953"
             ],
             [
              0.7777777777777778,
              "#fb9f3a"
             ],
             [
              0.8888888888888888,
              "#fdca26"
             ],
             [
              1,
              "#f0f921"
             ]
            ],
            "type": "heatmap"
           }
          ],
          "heatmapgl": [
           {
            "colorbar": {
             "outlinewidth": 0,
             "ticks": ""
            },
            "colorscale": [
             [
              0,
              "#0d0887"
             ],
             [
              0.1111111111111111,
              "#46039f"
             ],
             [
              0.2222222222222222,
              "#7201a8"
             ],
             [
              0.3333333333333333,
              "#9c179e"
             ],
             [
              0.4444444444444444,
              "#bd3786"
             ],
             [
              0.5555555555555556,
              "#d8576b"
             ],
             [
              0.6666666666666666,
              "#ed7953"
             ],
             [
              0.7777777777777778,
              "#fb9f3a"
             ],
             [
              0.8888888888888888,
              "#fdca26"
             ],
             [
              1,
              "#f0f921"
             ]
            ],
            "type": "heatmapgl"
           }
          ],
          "histogram": [
           {
            "marker": {
             "pattern": {
              "fillmode": "overlay",
              "size": 10,
              "solidity": 0.2
             }
            },
            "type": "histogram"
           }
          ],
          "histogram2d": [
           {
            "colorbar": {
             "outlinewidth": 0,
             "ticks": ""
            },
            "colorscale": [
             [
              0,
              "#0d0887"
             ],
             [
              0.1111111111111111,
              "#46039f"
             ],
             [
              0.2222222222222222,
              "#7201a8"
             ],
             [
              0.3333333333333333,
              "#9c179e"
             ],
             [
              0.4444444444444444,
              "#bd3786"
             ],
             [
              0.5555555555555556,
              "#d8576b"
             ],
             [
              0.6666666666666666,
              "#ed7953"
             ],
             [
              0.7777777777777778,
              "#fb9f3a"
             ],
             [
              0.8888888888888888,
              "#fdca26"
             ],
             [
              1,
              "#f0f921"
             ]
            ],
            "type": "histogram2d"
           }
          ],
          "histogram2dcontour": [
           {
            "colorbar": {
             "outlinewidth": 0,
             "ticks": ""
            },
            "colorscale": [
             [
              0,
              "#0d0887"
             ],
             [
              0.1111111111111111,
              "#46039f"
             ],
             [
              0.2222222222222222,
              "#7201a8"
             ],
             [
              0.3333333333333333,
              "#9c179e"
             ],
             [
              0.4444444444444444,
              "#bd3786"
             ],
             [
              0.5555555555555556,
              "#d8576b"
             ],
             [
              0.6666666666666666,
              "#ed7953"
             ],
             [
              0.7777777777777778,
              "#fb9f3a"
             ],
             [
              0.8888888888888888,
              "#fdca26"
             ],
             [
              1,
              "#f0f921"
             ]
            ],
            "type": "histogram2dcontour"
           }
          ],
          "mesh3d": [
           {
            "colorbar": {
             "outlinewidth": 0,
             "ticks": ""
            },
            "type": "mesh3d"
           }
          ],
          "parcoords": [
           {
            "line": {
             "colorbar": {
              "outlinewidth": 0,
              "ticks": ""
             }
            },
            "type": "parcoords"
           }
          ],
          "pie": [
           {
            "automargin": true,
            "type": "pie"
           }
          ],
          "scatter": [
           {
            "fillpattern": {
             "fillmode": "overlay",
             "size": 10,
             "solidity": 0.2
            },
            "type": "scatter"
           }
          ],
          "scatter3d": [
           {
            "line": {
             "colorbar": {
              "outlinewidth": 0,
              "ticks": ""
             }
            },
            "marker": {
             "colorbar": {
              "outlinewidth": 0,
              "ticks": ""
             }
            },
            "type": "scatter3d"
           }
          ],
          "scattercarpet": [
           {
            "marker": {
             "colorbar": {
              "outlinewidth": 0,
              "ticks": ""
             }
            },
            "type": "scattercarpet"
           }
          ],
          "scattergeo": [
           {
            "marker": {
             "colorbar": {
              "outlinewidth": 0,
              "ticks": ""
             }
            },
            "type": "scattergeo"
           }
          ],
          "scattergl": [
           {
            "marker": {
             "colorbar": {
              "outlinewidth": 0,
              "ticks": ""
             }
            },
            "type": "scattergl"
           }
          ],
          "scattermapbox": [
           {
            "marker": {
             "colorbar": {
              "outlinewidth": 0,
              "ticks": ""
             }
            },
            "type": "scattermapbox"
           }
          ],
          "scatterpolar": [
           {
            "marker": {
             "colorbar": {
              "outlinewidth": 0,
              "ticks": ""
             }
            },
            "type": "scatterpolar"
           }
          ],
          "scatterpolargl": [
           {
            "marker": {
             "colorbar": {
              "outlinewidth": 0,
              "ticks": ""
             }
            },
            "type": "scatterpolargl"
           }
          ],
          "scatterternary": [
           {
            "marker": {
             "colorbar": {
              "outlinewidth": 0,
              "ticks": ""
             }
            },
            "type": "scatterternary"
           }
          ],
          "surface": [
           {
            "colorbar": {
             "outlinewidth": 0,
             "ticks": ""
            },
            "colorscale": [
             [
              0,
              "#0d0887"
             ],
             [
              0.1111111111111111,
              "#46039f"
             ],
             [
              0.2222222222222222,
              "#7201a8"
             ],
             [
              0.3333333333333333,
              "#9c179e"
             ],
             [
              0.4444444444444444,
              "#bd3786"
             ],
             [
              0.5555555555555556,
              "#d8576b"
             ],
             [
              0.6666666666666666,
              "#ed7953"
             ],
             [
              0.7777777777777778,
              "#fb9f3a"
             ],
             [
              0.8888888888888888,
              "#fdca26"
             ],
             [
              1,
              "#f0f921"
             ]
            ],
            "type": "surface"
           }
          ],
          "table": [
           {
            "cells": {
             "fill": {
              "color": "#EBF0F8"
             },
             "line": {
              "color": "white"
             }
            },
            "header": {
             "fill": {
              "color": "#C8D4E3"
             },
             "line": {
              "color": "white"
             }
            },
            "type": "table"
           }
          ]
         },
         "layout": {
          "annotationdefaults": {
           "arrowcolor": "#2a3f5f",
           "arrowhead": 0,
           "arrowwidth": 1
          },
          "autotypenumbers": "strict",
          "coloraxis": {
           "colorbar": {
            "outlinewidth": 0,
            "ticks": ""
           }
          },
          "colorscale": {
           "diverging": [
            [
             0,
             "#8e0152"
            ],
            [
             0.1,
             "#c51b7d"
            ],
            [
             0.2,
             "#de77ae"
            ],
            [
             0.3,
             "#f1b6da"
            ],
            [
             0.4,
             "#fde0ef"
            ],
            [
             0.5,
             "#f7f7f7"
            ],
            [
             0.6,
             "#e6f5d0"
            ],
            [
             0.7,
             "#b8e186"
            ],
            [
             0.8,
             "#7fbc41"
            ],
            [
             0.9,
             "#4d9221"
            ],
            [
             1,
             "#276419"
            ]
           ],
           "sequential": [
            [
             0,
             "#0d0887"
            ],
            [
             0.1111111111111111,
             "#46039f"
            ],
            [
             0.2222222222222222,
             "#7201a8"
            ],
            [
             0.3333333333333333,
             "#9c179e"
            ],
            [
             0.4444444444444444,
             "#bd3786"
            ],
            [
             0.5555555555555556,
             "#d8576b"
            ],
            [
             0.6666666666666666,
             "#ed7953"
            ],
            [
             0.7777777777777778,
             "#fb9f3a"
            ],
            [
             0.8888888888888888,
             "#fdca26"
            ],
            [
             1,
             "#f0f921"
            ]
           ],
           "sequentialminus": [
            [
             0,
             "#0d0887"
            ],
            [
             0.1111111111111111,
             "#46039f"
            ],
            [
             0.2222222222222222,
             "#7201a8"
            ],
            [
             0.3333333333333333,
             "#9c179e"
            ],
            [
             0.4444444444444444,
             "#bd3786"
            ],
            [
             0.5555555555555556,
             "#d8576b"
            ],
            [
             0.6666666666666666,
             "#ed7953"
            ],
            [
             0.7777777777777778,
             "#fb9f3a"
            ],
            [
             0.8888888888888888,
             "#fdca26"
            ],
            [
             1,
             "#f0f921"
            ]
           ]
          },
          "colorway": [
           "#636efa",
           "#EF553B",
           "#00cc96",
           "#ab63fa",
           "#FFA15A",
           "#19d3f3",
           "#FF6692",
           "#B6E880",
           "#FF97FF",
           "#FECB52"
          ],
          "font": {
           "color": "#2a3f5f"
          },
          "geo": {
           "bgcolor": "white",
           "lakecolor": "white",
           "landcolor": "#E5ECF6",
           "showlakes": true,
           "showland": true,
           "subunitcolor": "white"
          },
          "hoverlabel": {
           "align": "left"
          },
          "hovermode": "closest",
          "mapbox": {
           "style": "light"
          },
          "paper_bgcolor": "white",
          "plot_bgcolor": "#E5ECF6",
          "polar": {
           "angularaxis": {
            "gridcolor": "white",
            "linecolor": "white",
            "ticks": ""
           },
           "bgcolor": "#E5ECF6",
           "radialaxis": {
            "gridcolor": "white",
            "linecolor": "white",
            "ticks": ""
           }
          },
          "scene": {
           "xaxis": {
            "backgroundcolor": "#E5ECF6",
            "gridcolor": "white",
            "gridwidth": 2,
            "linecolor": "white",
            "showbackground": true,
            "ticks": "",
            "zerolinecolor": "white"
           },
           "yaxis": {
            "backgroundcolor": "#E5ECF6",
            "gridcolor": "white",
            "gridwidth": 2,
            "linecolor": "white",
            "showbackground": true,
            "ticks": "",
            "zerolinecolor": "white"
           },
           "zaxis": {
            "backgroundcolor": "#E5ECF6",
            "gridcolor": "white",
            "gridwidth": 2,
            "linecolor": "white",
            "showbackground": true,
            "ticks": "",
            "zerolinecolor": "white"
           }
          },
          "shapedefaults": {
           "line": {
            "color": "#2a3f5f"
           }
          },
          "ternary": {
           "aaxis": {
            "gridcolor": "white",
            "linecolor": "white",
            "ticks": ""
           },
           "baxis": {
            "gridcolor": "white",
            "linecolor": "white",
            "ticks": ""
           },
           "bgcolor": "#E5ECF6",
           "caxis": {
            "gridcolor": "white",
            "linecolor": "white",
            "ticks": ""
           }
          },
          "title": {
           "x": 0.05
          },
          "xaxis": {
           "automargin": true,
           "gridcolor": "white",
           "linecolor": "white",
           "ticks": "",
           "title": {
            "standoff": 15
           },
           "zerolinecolor": "white",
           "zerolinewidth": 2
          },
          "yaxis": {
           "automargin": true,
           "gridcolor": "white",
           "linecolor": "white",
           "ticks": "",
           "title": {
            "standoff": 15
           },
           "zerolinecolor": "white",
           "zerolinewidth": 2
          }
         }
        },
        "title": {
         "text": "Here the 25 hotels nearby each better destination"
        },
        "width": 1250
       }
      }
     },
     "metadata": {},
     "output_type": "display_data"
    }
   ],
   "source": [
    "fig = px.scatter_mapbox(best_destinations, \n",
    "                        lat=best_destinations['hotel_latitude'],\n",
    "                        lon=best_destinations['hotel_longitude'],\n",
    "                        zoom= 5,\n",
    "                        mapbox_style='open-street-map',\n",
    "                        width=1250,\n",
    "                        height=750,\n",
    "                        size=best_destinations['mean_temp'],\n",
    "                        title='Here the 25 hotels nearby each better destination'\n",
    "\n",
    "                        )   \n",
    "fig.show()"
   ]
  },
  {
   "cell_type": "code",
   "execution_count": null,
   "metadata": {},
   "outputs": [],
   "source": []
  }
 ],
 "metadata": {
  "kernelspec": {
   "display_name": "Python 3",
   "language": "python",
   "name": "python3"
  },
  "language_info": {
   "codemirror_mode": {
    "name": "ipython",
    "version": 3
   },
   "file_extension": ".py",
   "mimetype": "text/x-python",
   "name": "python",
   "nbconvert_exporter": "python",
   "pygments_lexer": "ipython3",
   "version": "3.9.3"
  },
  "orig_nbformat": 4,
  "vscode": {
   "interpreter": {
    "hash": "5a1ee337b682cd95343797d80150fd2bd6ab72b1f35807bec9bb1f0b7fb0c443"
   }
  }
 },
 "nbformat": 4,
 "nbformat_minor": 2
}
