{
 "cells": [
  {
   "cell_type": "code",
   "execution_count": 1,
   "metadata": {},
   "outputs": [],
   "source": [
    "import pandas as pd\n",
    "from selenium import webdriver\n",
    "from selenium.common.exceptions import NoSuchElementException\n",
    "from selenium.webdriver.common.by import By\n",
    "import time\n",
    "from selenium.webdriver.chrome.service import Service\n",
    "options = webdriver.ChromeOptions()\n",
    "options.add_argument(\"--start-maximized\")"
   ]
  },
  {
   "cell_type": "code",
   "execution_count": 9,
   "metadata": {},
   "outputs": [
    {
     "name": "stderr",
     "output_type": "stream",
     "text": [
      "C:\\Users\\Christophe\\AppData\\Local\\Temp\\ipykernel_7500\\768363375.py:2: DeprecationWarning: use options instead of chrome_options\n",
      "  browser = webdriver.Chrome(chrome_options=options, service=path)\n"
     ]
    }
   ],
   "source": [
    "path=Service(\"C:\\\\Program Files (x86)\\\\Google\\\\Chrome\\\\Application\\\\chromedriver\\\\chromedriver.exe\")\n",
    "browser = webdriver.Chrome(chrome_options=options, service=path)\n",
    "browser.get(\"https://www.booking.com/\")\n",
    "browser.maximize_window()\n",
    "\n",
    "time.sleep(3)\n",
    "rgpd_button = browser.find_element(By.XPATH, '//*[@id=\"onetrust-accept-btn-handler\"]')\n",
    "rgpd_button.click()\n",
    "time.sleep(2)\n",
    "\n",
    "text_box = browser.find_element(By.NAME,'ss')\n",
    "submit_button = browser.find_element(By.XPATH,'//*[@id=\"frm\"]/div[1]/div[4]/div[2]/button')\n",
    "\n",
    "text_box.send_keys('avignon')\n",
    "submit_button.click()\n",
    "\n",
    "sort_result_button = browser.find_element(By.XPATH, '//*[@id=\"search_results_table\"]/div[2]/div/div/div/div[2]/span/button')\n",
    "sort_result_button.click()\n",
    "time.sleep(1)\n",
    "\n",
    "etoiles_ordre_decroissant_button = browser.find_element(By.XPATH, '//*[@id=\"__bui-c3-1\"]/div/div/div/div/ul/li[3]/button/div/div[1]/span')\n",
    "etoiles_ordre_decroissant_button.click()                        \n",
    "time.sleep(3)\n",
    "\n",
    "\n",
    "\n",
    "\n",
    "time.sleep(20)\n",
    "browser.close()\n",
    "\n",
    "\n",
    "\n",
    "\n",
    "\n",
    "\n",
    "\n",
    "\n",
    "\n",
    "\n",
    "\n",
    "\n"
   ]
  },
  {
   "cell_type": "code",
   "execution_count": null,
   "metadata": {},
   "outputs": [],
   "source": [
    "#bouton_recherche = browser.find_element(By.XPATH,\"/html/body/div[1]/div[2]/div/form/div[1]/div[1]/div[1]/div[1]/label/input\") "
   ]
  },
  {
   "cell_type": "code",
   "execution_count": null,
   "metadata": {},
   "outputs": [],
   "source": []
  },
  {
   "cell_type": "code",
   "execution_count": null,
   "metadata": {},
   "outputs": [],
   "source": [
    "# # Creating the dataframe\n",
    "\n",
    "# df = pd.DataFrame(columns=['name', 'link', 'line', 'city'])\n",
    "# dict = {'name':'', 'link':'', 'line': 'A', 'city':'lyon'}"
   ]
  },
  {
   "cell_type": "code",
   "execution_count": null,
   "metadata": {},
   "outputs": [],
   "source": [
    "# # LOOP\n",
    "# for i in range(1,15):\n",
    "#     dict = {'name':'', 'link':'', 'line': 'A', 'city':'lyon'}\n",
    "\n",
    "#     station_link = browser.find_element(By.XPATH,\"\"\"//*[@id=\"som\"]/ul/li[\"\"\"+str(i)+\"\"\"]/a\"\"\")                                               \n",
    "#     title = browser.find_element(By.XPATH,\"\"\"//*[@id=\"som\"]/ul/li[\"\"\"+str(i)+\"\"\"]/a\"\"\").get_attribute('title')\n",
    "    \n",
    "#     time.sleep(2)\n",
    "\n",
    "#     station_link.click()\n",
    "\n",
    "#     time.sleep(3)\n",
    "\n",
    "#     link_gps = browser.find_element(By.XPATH,'//*[@id=\"contenu\"]/div[1]/table[1]/tbody/tr[9]/td/a').get_attribute('href')\n",
    "                                            \n",
    "#     dict.update({'name': str(title)})\n",
    "#     dict.update({'link': str(link_gps)})\n",
    "#     df = df.append(dict, ignore_index=True)\n",
    "\n",
    "#     time.sleep(3)\n",
    "\n",
    "#     if i == 14:\n",
    "#         df.to_csv('save_output_scrapping/output_line_A.csv')\n",
    "#         browser.quit()\n",
    "#     else:\n",
    "#         browser.back()"
   ]
  }
 ],
 "metadata": {
  "kernelspec": {
   "display_name": "Python 3",
   "language": "python",
   "name": "python3"
  },
  "language_info": {
   "codemirror_mode": {
    "name": "ipython",
    "version": 3
   },
   "file_extension": ".py",
   "mimetype": "text/x-python",
   "name": "python",
   "nbconvert_exporter": "python",
   "pygments_lexer": "ipython3",
   "version": "3.9.3"
  },
  "orig_nbformat": 4,
  "vscode": {
   "interpreter": {
    "hash": "5a1ee337b682cd95343797d80150fd2bd6ab72b1f35807bec9bb1f0b7fb0c443"
   }
  }
 },
 "nbformat": 4,
 "nbformat_minor": 2
}
